{
 "cells": [
  {
   "cell_type": "code",
   "execution_count": 1,
   "id": "1c5abe9a",
   "metadata": {},
   "outputs": [],
   "source": [
    "import os\n",
    "os.chdir(\"../\")\n",
    "\n",
    "import fastf1 as ff1\n",
    "import pandas as pd\n",
    "import numpy as np\n",
    "import matplotlib.pyplot as plt\n",
    "from matplotlib.collections import LineCollection\n",
    "from matplotlib import cm\n",
    "\n",
    "import geopandas as gpd\n",
    "import shapely\n",
    "\n",
    "import warnings\n",
    "warnings.filterwarnings(\"ignore\")"
   ]
  },
  {
   "cell_type": "code",
   "execution_count": 2,
   "id": "ca4eeb09",
   "metadata": {},
   "outputs": [
    {
     "data": {
      "text/html": [
       "<div style=\"width:100%;\"><div style=\"position:relative;width:100%;height:0;padding-bottom:60%;\"><span style=\"color:#565656\">Make this Notebook Trusted to load map: File -> Trust Notebook</span><iframe srcdoc=\"&lt;!DOCTYPE html&gt;\n",
       "&lt;html&gt;\n",
       "&lt;head&gt;\n",
       "    \n",
       "    &lt;meta http-equiv=&quot;content-type&quot; content=&quot;text/html; charset=UTF-8&quot; /&gt;\n",
       "    \n",
       "        &lt;script&gt;\n",
       "            L_NO_TOUCH = false;\n",
       "            L_DISABLE_3D = false;\n",
       "        &lt;/script&gt;\n",
       "    \n",
       "    &lt;style&gt;html, body {width: 100%;height: 100%;margin: 0;padding: 0;}&lt;/style&gt;\n",
       "    &lt;style&gt;#map {position:absolute;top:0;bottom:0;right:0;left:0;}&lt;/style&gt;\n",
       "    &lt;script src=&quot;https://cdn.jsdelivr.net/npm/leaflet@1.9.3/dist/leaflet.js&quot;&gt;&lt;/script&gt;\n",
       "    &lt;script src=&quot;https://code.jquery.com/jquery-1.12.4.min.js&quot;&gt;&lt;/script&gt;\n",
       "    &lt;script src=&quot;https://cdn.jsdelivr.net/npm/bootstrap@5.2.2/dist/js/bootstrap.bundle.min.js&quot;&gt;&lt;/script&gt;\n",
       "    &lt;script src=&quot;https://cdnjs.cloudflare.com/ajax/libs/Leaflet.awesome-markers/2.0.2/leaflet.awesome-markers.js&quot;&gt;&lt;/script&gt;\n",
       "    &lt;link rel=&quot;stylesheet&quot; href=&quot;https://cdn.jsdelivr.net/npm/leaflet@1.9.3/dist/leaflet.css&quot;/&gt;\n",
       "    &lt;link rel=&quot;stylesheet&quot; href=&quot;https://cdn.jsdelivr.net/npm/bootstrap@5.2.2/dist/css/bootstrap.min.css&quot;/&gt;\n",
       "    &lt;link rel=&quot;stylesheet&quot; href=&quot;https://netdna.bootstrapcdn.com/bootstrap/3.0.0/css/bootstrap.min.css&quot;/&gt;\n",
       "    &lt;link rel=&quot;stylesheet&quot; href=&quot;https://cdn.jsdelivr.net/npm/@fortawesome/fontawesome-free@6.2.0/css/all.min.css&quot;/&gt;\n",
       "    &lt;link rel=&quot;stylesheet&quot; href=&quot;https://cdnjs.cloudflare.com/ajax/libs/Leaflet.awesome-markers/2.0.2/leaflet.awesome-markers.css&quot;/&gt;\n",
       "    &lt;link rel=&quot;stylesheet&quot; href=&quot;https://cdn.jsdelivr.net/gh/python-visualization/folium/folium/templates/leaflet.awesome.rotate.min.css&quot;/&gt;\n",
       "    \n",
       "            &lt;meta name=&quot;viewport&quot; content=&quot;width=device-width,\n",
       "                initial-scale=1.0, maximum-scale=1.0, user-scalable=no&quot; /&gt;\n",
       "            &lt;style&gt;\n",
       "                #map_c9110dde1612805daeb1d091b9df858d {\n",
       "                    position: relative;\n",
       "                    width: 100.0%;\n",
       "                    height: 100.0%;\n",
       "                    left: 0.0%;\n",
       "                    top: 0.0%;\n",
       "                }\n",
       "                .leaflet-container { font-size: 1rem; }\n",
       "            &lt;/style&gt;\n",
       "        \n",
       "    \n",
       "                    &lt;style&gt;\n",
       "                        .foliumtooltip {\n",
       "                            \n",
       "                        }\n",
       "                       .foliumtooltip table{\n",
       "                            margin: auto;\n",
       "                        }\n",
       "                        .foliumtooltip tr{\n",
       "                            text-align: left;\n",
       "                        }\n",
       "                        .foliumtooltip th{\n",
       "                            padding: 2px; padding-right: 8px;\n",
       "                        }\n",
       "                    &lt;/style&gt;\n",
       "            \n",
       "&lt;/head&gt;\n",
       "&lt;body&gt;\n",
       "    \n",
       "    \n",
       "            &lt;div class=&quot;folium-map&quot; id=&quot;map_c9110dde1612805daeb1d091b9df858d&quot; &gt;&lt;/div&gt;\n",
       "        \n",
       "&lt;/body&gt;\n",
       "&lt;script&gt;\n",
       "    \n",
       "    \n",
       "            var map_c9110dde1612805daeb1d091b9df858d = L.map(\n",
       "                &quot;map_c9110dde1612805daeb1d091b9df858d&quot;,\n",
       "                {\n",
       "                    center: [47.222836, 14.7623585],\n",
       "                    crs: L.CRS.EPSG3857,\n",
       "                    zoom: 10,\n",
       "                    zoomControl: true,\n",
       "                    preferCanvas: false,\n",
       "                }\n",
       "            );\n",
       "            L.control.scale().addTo(map_c9110dde1612805daeb1d091b9df858d);\n",
       "\n",
       "            \n",
       "\n",
       "        \n",
       "    \n",
       "            var tile_layer_dbdd273faeab90cea202fd7436793319 = L.tileLayer(\n",
       "                &quot;https://{s}.tile.openstreetmap.org/{z}/{x}/{y}.png&quot;,\n",
       "                {&quot;attribution&quot;: &quot;Data by \\u0026copy; \\u003ca target=\\&quot;_blank\\&quot; href=\\&quot;http://openstreetmap.org\\&quot;\\u003eOpenStreetMap\\u003c/a\\u003e, under \\u003ca target=\\&quot;_blank\\&quot; href=\\&quot;http://www.openstreetmap.org/copyright\\&quot;\\u003eODbL\\u003c/a\\u003e.&quot;, &quot;detectRetina&quot;: false, &quot;maxNativeZoom&quot;: 18, &quot;maxZoom&quot;: 18, &quot;minZoom&quot;: 0, &quot;noWrap&quot;: false, &quot;opacity&quot;: 1, &quot;subdomains&quot;: &quot;abc&quot;, &quot;tms&quot;: false}\n",
       "            ).addTo(map_c9110dde1612805daeb1d091b9df858d);\n",
       "        \n",
       "    \n",
       "            map_c9110dde1612805daeb1d091b9df858d.fitBounds(\n",
       "                [[47.219284, 14.754069], [47.226388, 14.770648]],\n",
       "                {}\n",
       "            );\n",
       "        \n",
       "    \n",
       "        function geo_json_56fdeab575c4b6987ce2808250383597_styler(feature) {\n",
       "            switch(feature.id) {\n",
       "                default:\n",
       "                    return {&quot;fillOpacity&quot;: 0.5, &quot;weight&quot;: 2};\n",
       "            }\n",
       "        }\n",
       "        function geo_json_56fdeab575c4b6987ce2808250383597_highlighter(feature) {\n",
       "            switch(feature.id) {\n",
       "                default:\n",
       "                    return {&quot;fillOpacity&quot;: 0.75};\n",
       "            }\n",
       "        }\n",
       "        function geo_json_56fdeab575c4b6987ce2808250383597_pointToLayer(feature, latlng) {\n",
       "            var opts = {&quot;bubblingMouseEvents&quot;: true, &quot;color&quot;: &quot;#3388ff&quot;, &quot;dashArray&quot;: null, &quot;dashOffset&quot;: null, &quot;fill&quot;: true, &quot;fillColor&quot;: &quot;#3388ff&quot;, &quot;fillOpacity&quot;: 0.2, &quot;fillRule&quot;: &quot;evenodd&quot;, &quot;lineCap&quot;: &quot;round&quot;, &quot;lineJoin&quot;: &quot;round&quot;, &quot;opacity&quot;: 1.0, &quot;radius&quot;: 2, &quot;stroke&quot;: true, &quot;weight&quot;: 3};\n",
       "            \n",
       "            let style = geo_json_56fdeab575c4b6987ce2808250383597_styler(feature)\n",
       "            Object.assign(opts, style)\n",
       "            \n",
       "            return new L.CircleMarker(latlng, opts)\n",
       "        }\n",
       "\n",
       "        function geo_json_56fdeab575c4b6987ce2808250383597_onEachFeature(feature, layer) {\n",
       "            layer.on({\n",
       "                mouseout: function(e) {\n",
       "                    if(typeof e.target.setStyle === &quot;function&quot;){\n",
       "                        geo_json_56fdeab575c4b6987ce2808250383597.resetStyle(e.target);\n",
       "                    }\n",
       "                },\n",
       "                mouseover: function(e) {\n",
       "                    if(typeof e.target.setStyle === &quot;function&quot;){\n",
       "                        const highlightStyle = geo_json_56fdeab575c4b6987ce2808250383597_highlighter(e.target.feature)\n",
       "                        e.target.setStyle(highlightStyle);\n",
       "                    }\n",
       "                },\n",
       "            });\n",
       "        };\n",
       "        var geo_json_56fdeab575c4b6987ce2808250383597 = L.geoJson(null, {\n",
       "                onEachFeature: geo_json_56fdeab575c4b6987ce2808250383597_onEachFeature,\n",
       "            \n",
       "                style: geo_json_56fdeab575c4b6987ce2808250383597_styler,\n",
       "                pointToLayer: geo_json_56fdeab575c4b6987ce2808250383597_pointToLayer\n",
       "        });\n",
       "\n",
       "        function geo_json_56fdeab575c4b6987ce2808250383597_add (data) {\n",
       "            geo_json_56fdeab575c4b6987ce2808250383597\n",
       "                .addData(data)\n",
       "                .addTo(map_c9110dde1612805daeb1d091b9df858d);\n",
       "        }\n",
       "            geo_json_56fdeab575c4b6987ce2808250383597_add({&quot;bbox&quot;: [14.754069, 47.219284, 14.770648, 47.226388], &quot;features&quot;: [{&quot;bbox&quot;: [14.754069, 47.219284, 14.770648, 47.226388], &quot;geometry&quot;: {&quot;coordinates&quot;: [[14.765119, 47.220023], [14.763977, 47.219817], [14.761148, 47.219294], [14.760953, 47.219284], [14.760823, 47.219364], [14.760604, 47.219652], [14.759911, 47.220288], [14.759159, 47.221014], [14.758568, 47.221655], [14.758029, 47.222287], [14.757147, 47.223593], [14.756904, 47.223941], [14.756531, 47.224351], [14.755957, 47.224828], [14.755004, 47.225478], [14.754122, 47.226077], [14.754069, 47.226157], [14.754075, 47.226242], [14.754176, 47.226284], [14.754407, 47.226312], [14.755129, 47.226369], [14.755851, 47.226388], [14.756597, 47.226383], [14.757307, 47.226336], [14.75813, 47.226246], [14.760645, 47.225916], [14.761793, 47.225813], [14.764273, 47.225742], [14.764475, 47.225695], [14.764599, 47.225601], [14.764646, 47.225497], [14.764634, 47.225388], [14.764569, 47.225285], [14.764321, 47.225044], [14.764125, 47.224884], [14.763764, 47.224667], [14.763368, 47.224521], [14.762888, 47.224413], [14.762367, 47.224356], [14.761823, 47.22438], [14.75971, 47.224611], [14.759426, 47.224587], [14.759195, 47.224531], [14.758994, 47.224436], [14.758816, 47.224309], [14.758704, 47.224158], [14.758644, 47.223993], [14.758633, 47.223842], [14.758668, 47.223677], [14.758733, 47.223555], [14.759757, 47.222339], [14.759929, 47.222211], [14.760201, 47.222094], [14.760515, 47.222046], [14.760817, 47.222065], [14.761136, 47.222155], [14.761332, 47.222263], [14.761533, 47.222433], [14.761722, 47.222598], [14.761924, 47.222739], [14.762166, 47.222852], [14.76245, 47.222966], [14.762847, 47.223065], [14.763261, 47.223126], [14.76654, 47.223173], [14.769062, 47.223215], [14.769328, 47.223211], [14.769588, 47.223149], [14.769802, 47.223041], [14.769973, 47.222895], [14.770103, 47.222702], [14.770618, 47.221523], [14.770648, 47.221415], [14.770618, 47.221335], [14.770559, 47.221273], [14.770358, 47.221165], [14.770092, 47.221057], [14.769748, 47.220939], [14.769358, 47.220826], [14.768896, 47.220722], [14.765119, 47.220023]], &quot;type&quot;: &quot;LineString&quot;}, &quot;id&quot;: &quot;0&quot;, &quot;properties&quot;: {&quot;Location&quot;: &quot;Spielberg&quot;, &quot;Name&quot;: &quot;Red Bull Ring&quot;, &quot;altitude&quot;: 721, &quot;firstgp&quot;: 1970, &quot;id&quot;: &quot;at-1969&quot;, &quot;length&quot;: 4318, &quot;opened&quot;: 1969}, &quot;type&quot;: &quot;Feature&quot;}], &quot;type&quot;: &quot;FeatureCollection&quot;});\n",
       "\n",
       "        \n",
       "    \n",
       "    geo_json_56fdeab575c4b6987ce2808250383597.bindTooltip(\n",
       "    function(layer){\n",
       "    let div = L.DomUtil.create(&#x27;div&#x27;);\n",
       "    \n",
       "    let handleObject = feature=&gt;typeof(feature)==&#x27;object&#x27; ? JSON.stringify(feature) : feature;\n",
       "    let fields = [&quot;id&quot;, &quot;Location&quot;, &quot;Name&quot;, &quot;opened&quot;, &quot;firstgp&quot;, &quot;length&quot;, &quot;altitude&quot;];\n",
       "    let aliases = [&quot;id&quot;, &quot;Location&quot;, &quot;Name&quot;, &quot;opened&quot;, &quot;firstgp&quot;, &quot;length&quot;, &quot;altitude&quot;];\n",
       "    let table = &#x27;&lt;table&gt;&#x27; +\n",
       "        String(\n",
       "        fields.map(\n",
       "        (v,i)=&gt;\n",
       "        `&lt;tr&gt;\n",
       "            &lt;th&gt;${aliases[i]}&lt;/th&gt;\n",
       "            \n",
       "            &lt;td&gt;${handleObject(layer.feature.properties[v])}&lt;/td&gt;\n",
       "        &lt;/tr&gt;`).join(&#x27;&#x27;))\n",
       "    +&#x27;&lt;/table&gt;&#x27;;\n",
       "    div.innerHTML=table;\n",
       "    \n",
       "    return div\n",
       "    }\n",
       "    ,{&quot;className&quot;: &quot;foliumtooltip&quot;, &quot;sticky&quot;: true});\n",
       "                     \n",
       "&lt;/script&gt;\n",
       "&lt;/html&gt;\" style=\"position:absolute;width:100%;height:100%;left:0;top:0;border:none !important;\" allowfullscreen webkitallowfullscreen mozallowfullscreen></iframe></div></div>"
      ],
      "text/plain": [
       "<folium.folium.Map at 0x157e40050>"
      ]
     },
     "execution_count": 2,
     "metadata": {},
     "output_type": "execute_result"
    }
   ],
   "source": [
    "# Load Austria Grand Prix circuits geojson\n",
    "at = gpd.read_file(\"https://raw.githubusercontent.com/bacinger/f1-circuits/master/circuits/at-1969.geojson\")\n",
    "at.explore()"
   ]
  },
  {
   "cell_type": "code",
   "execution_count": 3,
   "id": "b8cf0ca4",
   "metadata": {},
   "outputs": [
    {
     "name": "stderr",
     "output_type": "stream",
     "text": [
      "req         WARNING \t\n",
      "\n",
      "DEFAULT CACHE ENABLED!\n",
      "\tCache directory: /Users/czhang/Library/Caches/fastf1.\n",
      "\tSize: 116.49 MB\n"
     ]
    },
    {
     "name": "stdout",
     "output_type": "stream",
     "text": [
      "RoundNumber                                                        9\n",
      "Country                                                      Austria\n",
      "Location                                                   Spielberg\n",
      "OfficialEventName    FORMULA 1 BWT GROSSER PREIS VON ÖSTERREICH 2021\n",
      "EventDate                                        2021-07-04 00:00:00\n",
      "EventName                                        Austrian Grand Prix\n",
      "EventFormat                                             conventional\n",
      "Session1                                                  Practice 1\n",
      "Session1Date                               2021-07-02 11:30:00+02:00\n",
      "Session1DateUtc                                  2021-07-02 09:30:00\n",
      "Session2                                                  Practice 2\n",
      "Session2Date                               2021-07-02 15:00:00+02:00\n",
      "Session2DateUtc                                  2021-07-02 13:00:00\n",
      "Session3                                                  Practice 3\n",
      "Session3Date                               2021-07-03 12:00:00+02:00\n",
      "Session3DateUtc                                  2021-07-03 10:00:00\n",
      "Session4                                                  Qualifying\n",
      "Session4Date                               2021-07-03 15:00:00+02:00\n",
      "Session4DateUtc                                  2021-07-03 13:00:00\n",
      "Session5                                                        Race\n",
      "Session5Date                               2021-07-04 15:00:00+02:00\n",
      "Session5DateUtc                                  2021-07-04 13:00:00\n",
      "F1ApiSupport                                                    True\n",
      "Name: 9, dtype: object\n"
     ]
    }
   ],
   "source": [
    "session = ff1.get_session(2021, 9, \"R\")\n",
    "print(session.event)"
   ]
  },
  {
   "cell_type": "code",
   "execution_count": 4,
   "id": "2df4fd0c",
   "metadata": {
    "scrolled": true
   },
   "outputs": [
    {
     "name": "stderr",
     "output_type": "stream",
     "text": [
      "core           INFO \tLoading data for Austrian Grand Prix - Race [v3.0.7]\n",
      "req            INFO \tUsing cached data for driver_info\n",
      "req            INFO \tUsing cached data for session_status_data\n",
      "req            INFO \tUsing cached data for lap_count\n",
      "req            INFO \tUsing cached data for track_status_data\n",
      "req            INFO \tUsing cached data for timing_data\n",
      "req            INFO \tUsing cached data for timing_app_data\n",
      "core           INFO \tProcessing timing data...\n",
      "req            INFO \tUsing cached data for car_data\n",
      "req            INFO \tUsing cached data for position_data\n",
      "req            INFO \tUsing cached data for weather_data\n",
      "req            INFO \tUsing cached data for race_control_messages\n",
      "core           INFO \tFinished loading data for 20 drivers: ['33', '77', '4', '44', '55', '11', '3', '16', '10', '14', '63', '22', '18', '99', '7', '6', '5', '47', '9', '31']\n"
     ]
    }
   ],
   "source": [
    "session.load()\n",
    "lap = session.laps.pick_driver(\"VER\")\n",
    "tel = lap.get_telemetry()"
   ]
  },
  {
   "cell_type": "code",
   "execution_count": 5,
   "id": "4ccbafca",
   "metadata": {},
   "outputs": [
    {
     "data": {
      "image/png": "[encoded data removed]",
      "text/plain": [
       "<Figure size 600x600 with 1 Axes>"
      ]
     },
     "metadata": {},
     "output_type": "display_data"
    }
   ],
   "source": [
    "x = np.array(tel['X'].values)\n",
    "y = np.array(tel['Y'].values)\n",
    "\n",
    "fig, ax = plt.subplots(figsize=(6,6))\n",
    "ax.plot(x,y)\n",
    "ax.set_axis_off();"
   ]
  },
  {
   "cell_type": "code",
   "execution_count": 7,
   "id": "ef26cb9f",
   "metadata": {},
   "outputs": [
    {
     "name": "stdout",
     "output_type": "stream",
     "text": [
      "[(14.765119, 47.220023), (14.763977, 47.219817), (14.761148, 47.219294), (14.760953, 47.219284), (14.760823, 47.219364), (14.760604, 47.219652), (14.759911, 47.220288), (14.759159, 47.221014), (14.758568, 47.221655), (14.758029, 47.222287), (14.757147, 47.223593), (14.756904, 47.223941), (14.756531, 47.224351), (14.755957, 47.224828), (14.755004, 47.225478), (14.754122, 47.226077), (14.754069, 47.226157), (14.754075, 47.226242), (14.754176, 47.226284), (14.754407, 47.226312), (14.755129, 47.226369), (14.755851, 47.226388), (14.756597, 47.226383), (14.757307, 47.226336), (14.75813, 47.226246), (14.760645, 47.225916), (14.761793, 47.225813), (14.764273, 47.225742), (14.764475, 47.225695), (14.764599, 47.225601), (14.764646, 47.225497), (14.764634, 47.225388), (14.764569, 47.225285), (14.764321, 47.225044), (14.764125, 47.224884), (14.763764, 47.224667), (14.763368, 47.224521), (14.762888, 47.224413), (14.762367, 47.224356), (14.761823, 47.22438), (14.75971, 47.224611), (14.759426, 47.224587), (14.759195, 47.224531), (14.758994, 47.224436), (14.758816, 47.224309), (14.758704, 47.224158), (14.758644, 47.223993), (14.758633, 47.223842), (14.758668, 47.223677), (14.758733, 47.223555), (14.759757, 47.222339), (14.759929, 47.222211), (14.760201, 47.222094), (14.760515, 47.222046), (14.760817, 47.222065), (14.761136, 47.222155), (14.761332, 47.222263), (14.761533, 47.222433), (14.761722, 47.222598), (14.761924, 47.222739), (14.762166, 47.222852), (14.76245, 47.222966), (14.762847, 47.223065), (14.763261, 47.223126), (14.76654, 47.223173), (14.769062, 47.223215), (14.769328, 47.223211), (14.769588, 47.223149), (14.769802, 47.223041), (14.769973, 47.222895), (14.770103, 47.222702), (14.770618, 47.221523), (14.770648, 47.221415), (14.770618, 47.221335), (14.770559, 47.221273), (14.770358, 47.221165), (14.770092, 47.221057), (14.769748, 47.220939), (14.769358, 47.220826), (14.768896, 47.220722), (14.765119, 47.220023)]\n"
     ]
    }
   ],
   "source": [
    "from shapely.geometry import shape\n",
    "at_shape = shape(at[\"geometry\"][0])\n",
    "at_points = [*at_shape.coords]\n",
    "print(at_points)"
   ]
  },
  {
   "cell_type": "markdown",
   "id": "91ad1db7",
   "metadata": {},
   "source": [
    "## To be solved !!!\n",
    "How to convert `tel[x]` and `tel[y]` to the coordinates?"
   ]
  }
 ],
 "metadata": {
  "kernelspec": {
   "display_name": "ox",
   "language": "python",
   "name": "ox"
  },
  "language_info": {
   "codemirror_mode": {
    "name": "ipython",
    "version": 3
   },
   "file_extension": ".py",
   "mimetype": "text/x-python",
   "name": "python",
   "nbconvert_exporter": "python",
   "pygments_lexer": "ipython3",
   "version": "3.11.4"
  },
  "toc": {
   "base_numbering": 1,
   "nav_menu": {},
   "number_sections": true,
   "sideBar": true,
   "skip_h1_title": false,
   "title_cell": "Table of Contents",
   "title_sidebar": "Contents",
   "toc_cell": false,
   "toc_position": {},
   "toc_section_display": true,
   "toc_window_display": false
  }
 },
 "nbformat": 4,
 "nbformat_minor": 5
}
