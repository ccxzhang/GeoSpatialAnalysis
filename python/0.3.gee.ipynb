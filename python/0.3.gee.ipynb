{
 "cells": [
  {
   "cell_type": "code",
   "execution_count": 1,
   "id": "48f39285",
   "metadata": {},
   "outputs": [
    {
     "name": "stdout",
     "output_type": "stream",
     "text": [
      "0.1.360\n"
     ]
    }
   ],
   "source": [
    "import os\n",
    "os.chdir(\"../\")\n",
    "\n",
    "import numpy as np\n",
    "import pandas as pd\n",
    "import matplotlib.pyplot as plt\n",
    "\n",
    "import ee\n",
    "ee.Initialize()\n",
    "import geemap\n",
    "print(ee.__version__)"
   ]
  },
  {
   "cell_type": "code",
   "execution_count": 2,
   "id": "c34ded8d",
   "metadata": {},
   "outputs": [],
   "source": [
    "dc = ee.FeatureCollection('TIGER/2018/States').filterMetadata('NAME', 'equals', 'District of Columbia').geometry()"
   ]
  },
  {
   "cell_type": "markdown",
   "id": "dab5b203",
   "metadata": {},
   "source": [
    "## LANDSAT"
   ]
  },
  {
   "cell_type": "code",
   "execution_count": 3,
   "id": "124a13e1",
   "metadata": {
    "scrolled": false
   },
   "outputs": [
    {
     "data": {
      "application/vnd.jupyter.widget-view+json": {
       "model_id": "aefc4c3d392f4819a92c7c29b8629e64",
       "version_major": 2,
       "version_minor": 0
      },
      "text/plain": [
       "Map(center=[38.897957, -77.03656], controls=(WidgetControl(options=['position', 'transparent_bg'], widget=HBox…"
      ]
     },
     "execution_count": 3,
     "metadata": {},
     "output_type": "execute_result"
    }
   ],
   "source": [
    "Map = geemap.Map(center=(38.897957, -77.036560), zoom=8)\n",
    "landsat_imgs = (ee.ImageCollection(\"LANDSAT/LC08/C01/T1_SR\")\n",
    "           .filterDate('2010-01-01', '2021-12-31')\n",
    "           .filterBounds(dc)\n",
    "           .filter('CLOUD_COVER < 5'))\n",
    "\n",
    "vis_params = {'min': 0, 'max': 4000, 'bands': ['B5', 'B4', 'B3']}\n",
    "\n",
    "Map.addLayer(landsat_imgs, vis_params, \"Landsat-8\")\n",
    "Map"
   ]
  },
  {
   "cell_type": "code",
   "execution_count": 4,
   "id": "0204707b",
   "metadata": {
    "scrolled": true
   },
   "outputs": [],
   "source": [
    "def ndvi_func(i):\n",
    "    ndvi = i.normalizedDifference(['B5', 'B4']).rename('NDVI')\n",
    "    return i.addBands(ndvi)\n",
    "\n",
    "images_ndvi = landsat_imgs.map(ndvi_func)"
   ]
  },
  {
   "cell_type": "code",
   "execution_count": 5,
   "id": "d73f3f36",
   "metadata": {},
   "outputs": [
    {
     "data": {
      "text/html": [
       "<div>\n",
       "<style scoped>\n",
       "    .dataframe tbody tr th:only-of-type {\n",
       "        vertical-align: middle;\n",
       "    }\n",
       "\n",
       "    .dataframe tbody tr th {\n",
       "        vertical-align: top;\n",
       "    }\n",
       "\n",
       "    .dataframe thead th {\n",
       "        text-align: right;\n",
       "    }\n",
       "</style>\n",
       "<table border=\"1\" class=\"dataframe\">\n",
       "  <thead>\n",
       "    <tr style=\"text-align: right;\">\n",
       "      <th></th>\n",
       "      <th>NDVI</th>\n",
       "      <th>year</th>\n",
       "    </tr>\n",
       "  </thead>\n",
       "  <tbody>\n",
       "    <tr>\n",
       "      <th>0</th>\n",
       "      <td>0.255553</td>\n",
       "      <td>2013</td>\n",
       "    </tr>\n",
       "    <tr>\n",
       "      <th>1</th>\n",
       "      <td>0.415431</td>\n",
       "      <td>2014</td>\n",
       "    </tr>\n",
       "    <tr>\n",
       "      <th>2</th>\n",
       "      <td>0.425041</td>\n",
       "      <td>2015</td>\n",
       "    </tr>\n",
       "    <tr>\n",
       "      <th>3</th>\n",
       "      <td>0.329087</td>\n",
       "      <td>2016</td>\n",
       "    </tr>\n",
       "    <tr>\n",
       "      <th>4</th>\n",
       "      <td>0.348490</td>\n",
       "      <td>2017</td>\n",
       "    </tr>\n",
       "    <tr>\n",
       "      <th>5</th>\n",
       "      <td>0.326505</td>\n",
       "      <td>2018</td>\n",
       "    </tr>\n",
       "    <tr>\n",
       "      <th>6</th>\n",
       "      <td>0.429704</td>\n",
       "      <td>2019</td>\n",
       "    </tr>\n",
       "    <tr>\n",
       "      <th>7</th>\n",
       "      <td>0.492855</td>\n",
       "      <td>2020</td>\n",
       "    </tr>\n",
       "    <tr>\n",
       "      <th>8</th>\n",
       "      <td>0.388530</td>\n",
       "      <td>2021</td>\n",
       "    </tr>\n",
       "  </tbody>\n",
       "</table>\n",
       "</div>"
      ],
      "text/plain": [
       "       NDVI  year\n",
       "0  0.255553  2013\n",
       "1  0.415431  2014\n",
       "2  0.425041  2015\n",
       "3  0.329087  2016\n",
       "4  0.348490  2017\n",
       "5  0.326505  2018\n",
       "6  0.429704  2019\n",
       "7  0.492855  2020\n",
       "8  0.388530  2021"
      ]
     },
     "metadata": {},
     "output_type": "display_data"
    }
   ],
   "source": [
    "years = ee.List.sequence(2013,2021)\n",
    "def year_func(y):\n",
    "    range = ee.Filter.calendarRange(y, y, 'year')\n",
    "    mean = (images_ndvi\n",
    "            .filter(range)\n",
    "            .select('NDVI')\n",
    "            .mean()\n",
    "            .reduceRegion(ee.Reducer.mean(), dc, 30))\n",
    "    return mean.set('year', y)\n",
    "\n",
    "yearwise_ndvi = years.map(year_func).getInfo()\n",
    "df = pd.DataFrame(yearwise_ndvi)\n",
    "display(df)"
   ]
  }
 ],
 "metadata": {
  "gist": {
   "data": {
    "description": "python/0_0_3_gee.ipynb",
    "public": false
   },
   "id": ""
  },
  "kernelspec": {
   "display_name": "ox",
   "language": "python",
   "name": "ox"
  },
  "language_info": {
   "codemirror_mode": {
    "name": "ipython",
    "version": 3
   },
   "file_extension": ".py",
   "mimetype": "text/x-python",
   "name": "python",
   "nbconvert_exporter": "python",
   "pygments_lexer": "ipython3",
   "version": "3.11.4"
  },
  "toc": {
   "base_numbering": 1,
   "nav_menu": {},
   "number_sections": true,
   "sideBar": true,
   "skip_h1_title": false,
   "title_cell": "Table of Contents",
   "title_sidebar": "Contents",
   "toc_cell": false,
   "toc_position": {},
   "toc_section_display": true,
   "toc_window_display": false
  }
 },
 "nbformat": 4,
 "nbformat_minor": 5
}
