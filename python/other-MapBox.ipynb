{
 "cells": [
  {
   "cell_type": "code",
   "execution_count": 1,
   "id": "1ea08d2d",
   "metadata": {},
   "outputs": [],
   "source": [
    "import os\n",
    "from dotenv import load_dotenv\n",
    "load_dotenv()\n",
    "import requests\n",
    "import json"
   ]
  },
  {
   "cell_type": "code",
   "execution_count": 2,
   "id": "4c016145",
   "metadata": {},
   "outputs": [],
   "source": [
    "MapBoxAPIToken = os.environ.get(\"MapBoxAPIToken\")\n",
    "start = (-76.97687, 38.9004)\n",
    "end = (-73.98317549999999, 40.772296499999996)\n",
    "mode = 'driving'\n",
    "url = f\"https://api.mapbox.com/directions/v5/mapbox/{mode}/{start[0]}%2C{start[1]}%3B{end[0]}%2C{end[1]}?alternatives=true&geometries=geojson&steps=true&access_token={MapBoxAPIToken}\""
   ]
  },
  {
   "cell_type": "code",
   "execution_count": 3,
   "id": "61f594d3",
   "metadata": {},
   "outputs": [],
   "source": [
    "r = requests.get(url)\n",
    "mb = json.loads(r.content)"
   ]
  }
 ],
 "metadata": {
  "kernelspec": {
   "display_name": "ox",
   "language": "python",
   "name": "ox"
  },
  "language_info": {
   "codemirror_mode": {
    "name": "ipython",
    "version": 3
   },
   "file_extension": ".py",
   "mimetype": "text/x-python",
   "name": "python",
   "nbconvert_exporter": "python",
   "pygments_lexer": "ipython3",
   "version": "3.11.5"
  },
  "toc": {
   "base_numbering": 1,
   "nav_menu": {},
   "number_sections": true,
   "sideBar": true,
   "skip_h1_title": false,
   "title_cell": "Table of Contents",
   "title_sidebar": "Contents",
   "toc_cell": false,
   "toc_position": {},
   "toc_section_display": true,
   "toc_window_display": false
  }
 },
 "nbformat": 4,
 "nbformat_minor": 5
}
