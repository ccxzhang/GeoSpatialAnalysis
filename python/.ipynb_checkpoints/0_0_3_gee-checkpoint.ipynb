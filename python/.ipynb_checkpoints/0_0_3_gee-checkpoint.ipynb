{
 "cells": [
  {
   "cell_type": "code",
   "execution_count": 1,
   "id": "48f39285",
   "metadata": {},
   "outputs": [
    {
     "name": "stdout",
     "output_type": "stream",
     "text": [
      "0.1.358\n"
     ]
    }
   ],
   "source": [
    "import os\n",
    "os.chdir(\"../\")\n",
    "import pandas as pd\n",
    "import ee\n",
    "ee.Initialize()\n",
    "import geemap\n",
    "print(ee.__version__)"
   ]
  },
  {
   "cell_type": "code",
   "execution_count": 2,
   "id": "c34ded8d",
   "metadata": {},
   "outputs": [],
   "source": [
    "dc = ee.FeatureCollection('TIGER/2018/States').filterMetadata('NAME', 'equals', 'District of Columbia').geometry()"
   ]
  },
  {
   "cell_type": "code",
   "execution_count": 3,
   "id": "124a13e1",
   "metadata": {
    "scrolled": false
   },
   "outputs": [
    {
     "data": {
      "application/vnd.jupyter.widget-view+json": {
       "model_id": "aafca05e769f443fbe89c078b893e398",
       "version_major": 2,
       "version_minor": 0
      },
      "text/plain": [
       "Map(center=[38.897957, -77.03656], controls=(WidgetControl(options=['position', 'transparent_bg'], widget=HBox…"
      ]
     },
     "metadata": {},
     "output_type": "display_data"
    }
   ],
   "source": [
    "Map = geemap.Map(center=(38.897957, -77.036560), zoom=8)\n",
    "landsat_imgs = (ee.ImageCollection(\"LANDSAT/LC08/C01/T1_SR\")\n",
    "           .filterDate('2010-01-01', '2021-12-31')\n",
    "           .filterBounds(dc)\n",
    "           .filter('CLOUD_COVER < 5'))\n",
    "\n",
    "vis_params = {'min': 0, 'max': 4000, 'bands': ['B5', 'B4', 'B3']}\n",
    "\n",
    "Map.addLayer(landsat_imgs, vis_params, \"Landsat-8\")\n",
    "Map"
   ]
  },
  {
   "cell_type": "code",
   "execution_count": 4,
   "id": "0204707b",
   "metadata": {
    "scrolled": true
   },
   "outputs": [],
   "source": [
    "def ndvi_func(i):\n",
    "    ndvi = i.normalizedDifference(['B5', 'B4']).rename('NDVI')\n",
    "    return i.addBands(ndvi)\n",
    "\n",
    "images_ndvi = landsat_imgs.map(ndvi_func)"
   ]
  },
  {
   "cell_type": "code",
   "execution_count": 5,
   "id": "d73f3f36",
   "metadata": {},
   "outputs": [
    {
     "name": "stdout",
     "output_type": "stream",
     "text": [
      "    year      NDVI\n",
      "0   2010       NaN\n",
      "1   2011       NaN\n",
      "2   2012       NaN\n",
      "3   2013  0.255553\n",
      "4   2014  0.415431\n",
      "5   2015  0.425041\n",
      "6   2016  0.329087\n",
      "7   2017  0.348490\n",
      "8   2018  0.326505\n",
      "9   2019  0.429704\n",
      "10  2020  0.492855\n",
      "11  2021  0.388530\n"
     ]
    }
   ],
   "source": [
    "years = ee.List.sequence(2010,2021)\n",
    "def year_func(y):\n",
    "    range = ee.Filter.calendarRange(y, y, 'year')\n",
    "    mean = (images_ndvi\n",
    "            .filter(range)\n",
    "            .select('NDVI')\n",
    "            .mean()\n",
    "            .reduceRegion(ee.Reducer.mean(), dc, 30))\n",
    "    return mean.set('year', y)\n",
    "\n",
    "yearwise_ndvi = years.map(year_func).getInfo()\n",
    "df = pd.DataFrame(yearwise_ndvi)\n",
    "print(df)"
   ]
  }
 ],
 "metadata": {
  "gist": {
   "data": {
    "description": "python/0_0_3_gee.ipynb",
    "public": false
   },
   "id": ""
  },
  "kernelspec": {
   "display_name": "Python 3 (ipykernel)",
   "language": "python",
   "name": "python3"
  },
  "language_info": {
   "codemirror_mode": {
    "name": "ipython",
    "version": 3
   },
   "file_extension": ".py",
   "mimetype": "text/x-python",
   "name": "python",
   "nbconvert_exporter": "python",
   "pygments_lexer": "ipython3",
   "version": "3.9.10"
  },
  "toc": {
   "base_numbering": 1,
   "nav_menu": {},
   "number_sections": true,
   "sideBar": true,
   "skip_h1_title": false,
   "title_cell": "Table of Contents",
   "title_sidebar": "Contents",
   "toc_cell": false,
   "toc_position": {},
   "toc_section_display": true,
   "toc_window_display": false
  }
 },
 "nbformat": 4,
 "nbformat_minor": 5
}
