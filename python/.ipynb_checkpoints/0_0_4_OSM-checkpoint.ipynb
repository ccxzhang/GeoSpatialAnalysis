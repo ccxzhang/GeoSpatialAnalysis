{
 "cells": [
  {
   "cell_type": "code",
   "execution_count": 1,
   "id": "8d548997",
   "metadata": {},
   "outputs": [],
   "source": [
    "import os\n",
    "\n",
    "os.chdir(\"../\")\n",
    "\n",
    "import pandas as pd\n",
    "import numpy as np\n",
    "import geopandas as gpd\n",
    "import folium\n",
    "import osmnx as ox\n",
    "import requests\n",
    "import networkx as nx\n",
    "import matplotlib.pyplot as plt\n",
    "from shapely.geometry import shape\n",
    "%matplotlib inline"
   ]
  },
  {
   "cell_type": "markdown",
   "id": "1fde73d5",
   "metadata": {},
   "source": [
    "## Overpass API for OpenStreetMap"
   ]
  },
  {
   "cell_type": "code",
   "execution_count": 2,
   "id": "315dd97d",
   "metadata": {},
   "outputs": [],
   "source": [
    "overpass_url = \"http://overpass-api.de/api/interpreter\"\n",
    "overpass_query = \"\"\"\n",
    "[out:json];\n",
    "area[name = \"Washington\"];\n",
    "(node[\"amenity\"=\"restaurant\"](area);\n",
    " way[\"amenity\"=\"restaurant\"](area);\n",
    " rel[\"amenity\"=\"restaurant\"](area);\n",
    ");\n",
    "out center;\n",
    "\"\"\"\n",
    "response = requests.get(overpass_url, params={'data': overpass_query})\n",
    "data = response.json()"
   ]
  },
  {
   "cell_type": "code",
   "execution_count": 3,
   "id": "f44d44b3",
   "metadata": {},
   "outputs": [],
   "source": [
    "rest_dict = {\n",
    "    \"id\": [],\n",
    "    \"lat\": [],\n",
    "    \"lon\": [],\n",
    "    \"name\": []\n",
    "}\n",
    "for ele in data[\"elements\"]:\n",
    "    if \"name\" in ele[\"tags\"]:\n",
    "        rest_dict[\"id\"].append(ele[\"id\"])\n",
    "        rest_dict[\"lat\"].append(ele[\"lat\"])\n",
    "        rest_dict[\"lon\"].append(ele[\"lon\"])\n",
    "        rest_dict[\"name\"].append(ele[\"tags\"][\"name\"])"
   ]
  },
  {
   "cell_type": "code",
   "execution_count": 4,
   "id": "e3fa0d7f",
   "metadata": {},
   "outputs": [],
   "source": [
    "dc_rest = pd.DataFrame(rest_dict)\n",
    "gdf = gpd.GeoDataFrame(dc_rest,\n",
    "                       geometry=gpd.points_from_xy(dc_rest.lon, dc_rest.lat),\n",
    "                       crs=\"EPSG:4326\")"
   ]
  },
  {
   "cell_type": "code",
   "execution_count": 5,
   "id": "f84614c9",
   "metadata": {},
   "outputs": [],
   "source": [
    "## Filter out the resturants in Washington State\n",
    "hsipath = os.getcwd() + \"/data/hsi/Heat_Sensitivity_Exposure_Index.shp\"\n",
    "dc_geometry = gpd.read_file(hsipath).dissolve()[\"geometry\"][0]"
   ]
  },
  {
   "cell_type": "code",
   "execution_count": 6,
   "id": "e2dd518c",
   "metadata": {},
   "outputs": [
    {
     "data": {
      "text/html": [
       "<div>\n",
       "<style scoped>\n",
       "    .dataframe tbody tr th:only-of-type {\n",
       "        vertical-align: middle;\n",
       "    }\n",
       "\n",
       "    .dataframe tbody tr th {\n",
       "        vertical-align: top;\n",
       "    }\n",
       "\n",
       "    .dataframe thead th {\n",
       "        text-align: right;\n",
       "    }\n",
       "</style>\n",
       "<table border=\"1\" class=\"dataframe\">\n",
       "  <thead>\n",
       "    <tr style=\"text-align: right;\">\n",
       "      <th></th>\n",
       "      <th>id</th>\n",
       "      <th>lat</th>\n",
       "      <th>lon</th>\n",
       "      <th>name</th>\n",
       "      <th>geometry</th>\n",
       "    </tr>\n",
       "  </thead>\n",
       "  <tbody>\n",
       "    <tr>\n",
       "      <th>0</th>\n",
       "      <td>388247153</td>\n",
       "      <td>38.945050</td>\n",
       "      <td>-77.096330</td>\n",
       "      <td>Millie’s</td>\n",
       "      <td>POINT (-77.09633 38.94505)</td>\n",
       "    </tr>\n",
       "    <tr>\n",
       "      <th>1</th>\n",
       "      <td>462011947</td>\n",
       "      <td>38.909472</td>\n",
       "      <td>-77.045582</td>\n",
       "      <td>Al Tiramisu</td>\n",
       "      <td>POINT (-77.04558 38.90947)</td>\n",
       "    </tr>\n",
       "    <tr>\n",
       "      <th>2</th>\n",
       "      <td>462044729</td>\n",
       "      <td>38.909474</td>\n",
       "      <td>-77.045687</td>\n",
       "      <td>Bangkok Thai Dining</td>\n",
       "      <td>POINT (-77.04569 38.90947)</td>\n",
       "    </tr>\n",
       "    <tr>\n",
       "      <th>3</th>\n",
       "      <td>486343600</td>\n",
       "      <td>38.899625</td>\n",
       "      <td>-77.020706</td>\n",
       "      <td>New Big Wong</td>\n",
       "      <td>POINT (-77.02071 38.89963)</td>\n",
       "    </tr>\n",
       "    <tr>\n",
       "      <th>4</th>\n",
       "      <td>486343622</td>\n",
       "      <td>38.899978</td>\n",
       "      <td>-77.020505</td>\n",
       "      <td>Jackey Cafe</td>\n",
       "      <td>POINT (-77.02050 38.89998)</td>\n",
       "    </tr>\n",
       "  </tbody>\n",
       "</table>\n",
       "</div>"
      ],
      "text/plain": [
       "          id        lat        lon                 name  \\\n",
       "0  388247153  38.945050 -77.096330             Millie’s   \n",
       "1  462011947  38.909472 -77.045582          Al Tiramisu   \n",
       "2  462044729  38.909474 -77.045687  Bangkok Thai Dining   \n",
       "3  486343600  38.899625 -77.020706         New Big Wong   \n",
       "4  486343622  38.899978 -77.020505          Jackey Cafe   \n",
       "\n",
       "                     geometry  \n",
       "0  POINT (-77.09633 38.94505)  \n",
       "1  POINT (-77.04558 38.90947)  \n",
       "2  POINT (-77.04569 38.90947)  \n",
       "3  POINT (-77.02071 38.89963)  \n",
       "4  POINT (-77.02050 38.89998)  "
      ]
     },
     "execution_count": 6,
     "metadata": {},
     "output_type": "execute_result"
    }
   ],
   "source": [
    "gdf = gdf[gdf.within(dc_geometry)].reset_index().drop(\"index\", axis=1)\n",
    "gdf.head(5)"
   ]
  },
  {
   "cell_type": "markdown",
   "id": "5306b2a5",
   "metadata": {},
   "source": [
    "## Route (TBD)"
   ]
  }
 ],
 "metadata": {
  "kernelspec": {
   "display_name": "Python 3 (ipykernel)",
   "language": "python",
   "name": "python3"
  },
  "language_info": {
   "codemirror_mode": {
    "name": "ipython",
    "version": 3
   },
   "file_extension": ".py",
   "mimetype": "text/x-python",
   "name": "python",
   "nbconvert_exporter": "python",
   "pygments_lexer": "ipython3",
   "version": "3.9.10"
  },
  "toc": {
   "base_numbering": 1,
   "nav_menu": {},
   "number_sections": true,
   "sideBar": true,
   "skip_h1_title": false,
   "title_cell": "Table of Contents",
   "title_sidebar": "Contents",
   "toc_cell": false,
   "toc_position": {},
   "toc_section_display": true,
   "toc_window_display": false
  }
 },
 "nbformat": 4,
 "nbformat_minor": 5
}
