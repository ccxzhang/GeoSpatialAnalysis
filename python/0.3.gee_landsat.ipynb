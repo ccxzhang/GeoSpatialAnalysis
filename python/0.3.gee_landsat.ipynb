{
 "cells": [
  {
   "cell_type": "code",
   "execution_count": 1,
   "id": "b3793557",
   "metadata": {},
   "outputs": [
    {
     "name": "stdout",
     "output_type": "stream",
     "text": [
      "0.1.360\n"
     ]
    }
   ],
   "source": [
    "import os\n",
    "os.chdir(\"../\")\n",
    "\n",
    "import numpy as np\n",
    "import pandas as pd\n",
    "import seaborn as sns\n",
    "import matplotlib.pyplot as plt\n",
    "\n",
    "import ee\n",
    "ee.Initialize()\n",
    "import geemap\n",
    "print(ee.__version__)"
   ]
  },
  {
   "cell_type": "code",
   "execution_count": 2,
   "id": "c34ded8d",
   "metadata": {},
   "outputs": [],
   "source": [
    "dc = ee.FeatureCollection('TIGER/2018/States').filterMetadata('NAME', 'equals', 'District of Columbia').geometry()"
   ]
  },
  {
   "cell_type": "markdown",
   "id": "dab5b203",
   "metadata": {},
   "source": [
    "## LANDSAT"
   ]
  },
  {
   "cell_type": "code",
   "execution_count": 3,
   "id": "28cc3881",
   "metadata": {},
   "outputs": [
    {
     "name": "stdout",
     "output_type": "stream",
     "text": [
      "there are 29 images in this collection.\n"
     ]
    }
   ],
   "source": [
    "dc_ls = (ee.ImageCollection(\"LANDSAT/LC08/C01/T1_SR\")\n",
    "           .filterDate('2010-01-01', '2022-12-31')\n",
    "           .filterBounds(dc)\n",
    "           .filter('CLOUD_COVER < 5'))\n",
    "\n",
    "print(f\"there are {dc_ls.size().getInfo()} images in this collection.\")"
   ]
  },
  {
   "cell_type": "code",
   "execution_count": 4,
   "id": "1f618f83",
   "metadata": {},
   "outputs": [],
   "source": [
    "def get_ndvi(img):\n",
    "    ndvi = img.normalizedDifference(['B5', 'B4']).rename('NDVI')\n",
    "    return img.addBands(ndvi)\n",
    "\n",
    "dc_ndvi = dc_ls.map(get_ndvi)"
   ]
  },
  {
   "cell_type": "markdown",
   "id": "21eb9ea1",
   "metadata": {},
   "source": [
    "### Get Each Year's NDVI"
   ]
  },
  {
   "cell_type": "code",
   "execution_count": 5,
   "id": "0572c21a",
   "metadata": {},
   "outputs": [],
   "source": [
    "def get_year_avg(img):\n",
    "    mean = img.reduceRegion(ee.Reducer.mean(), dc, 30).get('NDVI')\n",
    "    return img.set('date', img.date().format()).set('mean', mean)"
   ]
  },
  {
   "cell_type": "code",
   "execution_count": 6,
   "id": "1cecf636",
   "metadata": {},
   "outputs": [
    {
     "data": {
      "text/html": [
       "<div>\n",
       "<style scoped>\n",
       "    .dataframe tbody tr th:only-of-type {\n",
       "        vertical-align: middle;\n",
       "    }\n",
       "\n",
       "    .dataframe tbody tr th {\n",
       "        vertical-align: top;\n",
       "    }\n",
       "\n",
       "    .dataframe thead th {\n",
       "        text-align: right;\n",
       "    }\n",
       "</style>\n",
       "<table border=\"1\" class=\"dataframe\">\n",
       "  <thead>\n",
       "    <tr style=\"text-align: right;\">\n",
       "      <th></th>\n",
       "      <th>NDVI</th>\n",
       "      <th>year</th>\n",
       "    </tr>\n",
       "  </thead>\n",
       "  <tbody>\n",
       "    <tr>\n",
       "      <th>0</th>\n",
       "      <td>0.255553</td>\n",
       "      <td>2013</td>\n",
       "    </tr>\n",
       "    <tr>\n",
       "      <th>1</th>\n",
       "      <td>0.415431</td>\n",
       "      <td>2014</td>\n",
       "    </tr>\n",
       "    <tr>\n",
       "      <th>2</th>\n",
       "      <td>0.425041</td>\n",
       "      <td>2015</td>\n",
       "    </tr>\n",
       "    <tr>\n",
       "      <th>3</th>\n",
       "      <td>0.329087</td>\n",
       "      <td>2016</td>\n",
       "    </tr>\n",
       "    <tr>\n",
       "      <th>4</th>\n",
       "      <td>0.348490</td>\n",
       "      <td>2017</td>\n",
       "    </tr>\n",
       "    <tr>\n",
       "      <th>5</th>\n",
       "      <td>0.326505</td>\n",
       "      <td>2018</td>\n",
       "    </tr>\n",
       "    <tr>\n",
       "      <th>6</th>\n",
       "      <td>0.429704</td>\n",
       "      <td>2019</td>\n",
       "    </tr>\n",
       "    <tr>\n",
       "      <th>7</th>\n",
       "      <td>0.492855</td>\n",
       "      <td>2020</td>\n",
       "    </tr>\n",
       "    <tr>\n",
       "      <th>8</th>\n",
       "      <td>0.388530</td>\n",
       "      <td>2021</td>\n",
       "    </tr>\n",
       "  </tbody>\n",
       "</table>\n",
       "</div>"
      ],
      "text/plain": [
       "       NDVI  year\n",
       "0  0.255553  2013\n",
       "1  0.415431  2014\n",
       "2  0.425041  2015\n",
       "3  0.329087  2016\n",
       "4  0.348490  2017\n",
       "5  0.326505  2018\n",
       "6  0.429704  2019\n",
       "7  0.492855  2020\n",
       "8  0.388530  2021"
      ]
     },
     "metadata": {},
     "output_type": "display_data"
    }
   ],
   "source": [
    "yr_range = ee.List.sequence(2013,2021)\n",
    "def getYearlyNDVI(y):\n",
    "    yr_range = ee.Filter.calendarRange(y, y, 'year')\n",
    "    mean = (dc_ndvi.filter(yr_range)\n",
    "                   .select('NDVI')\n",
    "                   .mean()\n",
    "                   .reduceRegion(ee.Reducer.mean(), dc, 30))\n",
    "    return mean.set('year', y)\n",
    "\n",
    "DCYearlyNDVI = yr_range.map(getYearlyNDVI).getInfo()\n",
    "dc_yr_ndvi = pd.DataFrame(DCYearlyNDVI)\n",
    "display(dc_yr_ndvi)"
   ]
  },
  {
   "cell_type": "code",
   "execution_count": 7,
   "id": "a561a744",
   "metadata": {},
   "outputs": [],
   "source": [
    "dc_ls_ts = (dc_ndvi.select(\"NDVI\")\n",
    "                   .map(get_year_avg)\n",
    "                   .reduceColumns(ee.Reducer.toList(2), ['date', 'mean'])\n",
    "                   .values().get(0))\n",
    "dc_ls_ts_dict = ee.Dictionary(ee.List(dc_ls_ts).flatten())"
   ]
  },
  {
   "cell_type": "code",
   "execution_count": 8,
   "id": "e9903465",
   "metadata": {},
   "outputs": [
    {
     "data": {
      "text/html": [
       "<div>\n",
       "<style scoped>\n",
       "    .dataframe tbody tr th:only-of-type {\n",
       "        vertical-align: middle;\n",
       "    }\n",
       "\n",
       "    .dataframe tbody tr th {\n",
       "        vertical-align: top;\n",
       "    }\n",
       "\n",
       "    .dataframe thead th {\n",
       "        text-align: right;\n",
       "    }\n",
       "</style>\n",
       "<table border=\"1\" class=\"dataframe\">\n",
       "  <thead>\n",
       "    <tr style=\"text-align: right;\">\n",
       "      <th></th>\n",
       "      <th>datetime</th>\n",
       "      <th>ndvi</th>\n",
       "    </tr>\n",
       "  </thead>\n",
       "  <tbody>\n",
       "    <tr>\n",
       "      <th>0</th>\n",
       "      <td>2013-12-31</td>\n",
       "      <td>0.255476</td>\n",
       "    </tr>\n",
       "    <tr>\n",
       "      <th>1</th>\n",
       "      <td>2014-12-31</td>\n",
       "      <td>0.415412</td>\n",
       "    </tr>\n",
       "    <tr>\n",
       "      <th>2</th>\n",
       "      <td>2015-12-31</td>\n",
       "      <td>0.425042</td>\n",
       "    </tr>\n",
       "    <tr>\n",
       "      <th>3</th>\n",
       "      <td>2016-12-31</td>\n",
       "      <td>0.329101</td>\n",
       "    </tr>\n",
       "    <tr>\n",
       "      <th>4</th>\n",
       "      <td>2017-12-31</td>\n",
       "      <td>0.348467</td>\n",
       "    </tr>\n",
       "    <tr>\n",
       "      <th>5</th>\n",
       "      <td>2018-12-31</td>\n",
       "      <td>0.326514</td>\n",
       "    </tr>\n",
       "    <tr>\n",
       "      <th>6</th>\n",
       "      <td>2019-12-31</td>\n",
       "      <td>0.429633</td>\n",
       "    </tr>\n",
       "    <tr>\n",
       "      <th>7</th>\n",
       "      <td>2020-12-31</td>\n",
       "      <td>0.492992</td>\n",
       "    </tr>\n",
       "    <tr>\n",
       "      <th>8</th>\n",
       "      <td>2021-12-31</td>\n",
       "      <td>0.388516</td>\n",
       "    </tr>\n",
       "  </tbody>\n",
       "</table>\n",
       "</div>"
      ],
      "text/plain": [
       "    datetime      ndvi\n",
       "0 2013-12-31  0.255476\n",
       "1 2014-12-31  0.415412\n",
       "2 2015-12-31  0.425042\n",
       "3 2016-12-31  0.329101\n",
       "4 2017-12-31  0.348467\n",
       "5 2018-12-31  0.326514\n",
       "6 2019-12-31  0.429633\n",
       "7 2020-12-31  0.492992\n",
       "8 2021-12-31  0.388516"
      ]
     },
     "metadata": {},
     "output_type": "display_data"
    }
   ],
   "source": [
    "dc_ndvi_df = pd.DataFrame(dc_ls_ts_dict.getInfo(), index=[0]).T.reset_index()\n",
    "dc_ndvi_df = dc_ndvi_df.rename({\"index\": \"datetime\", 0: \"ndvi\"}, axis=1)\n",
    "dc_ndvi_df[\"datetime\"] = pd.to_datetime(dc_ndvi_df[\"datetime\"])\n",
    "dc_ndvi_by_year = (dc_ndvi_df.set_index(\"datetime\")\n",
    "                   .groupby(pd.Grouper(freq=\"Y\"))\n",
    "                   .mean()\n",
    "                   .reset_index())\n",
    "display(dc_ndvi_by_year)"
   ]
  },
  {
   "cell_type": "code",
   "execution_count": 9,
   "id": "b9c9d354",
   "metadata": {},
   "outputs": [
    {
     "data": {
      "image/png": "[encoded data removed]",
      "text/plain": [
       "<Figure size 1200x300 with 1 Axes>"
      ]
     },
     "metadata": {},
     "output_type": "display_data"
    }
   ],
   "source": [
    "fig, ax = plt.subplots(figsize=(12, 3))\n",
    "sns.lineplot(x=\"year\", y=\"NDVI\", data=dc_yr_ndvi, ax=ax)\n",
    "plt.xlabel(\"Date\")\n",
    "plt.ylabel(\"NDVI\")\n",
    "plt.title(\"DC's NDVI from 2013 to 2021\");"
   ]
  },
  {
   "cell_type": "code",
   "execution_count": 10,
   "id": "124a13e1",
   "metadata": {
    "scrolled": false
   },
   "outputs": [
    {
     "data": {
      "application/vnd.jupyter.widget-view+json": {
       "model_id": "14648d68517243cdb95e01f55240e45d",
       "version_major": 2,
       "version_minor": 0
      },
      "text/plain": [
       "Map(center=[38.897957, -77.03656], controls=(WidgetControl(options=['position', 'transparent_bg'], widget=HBox…"
      ]
     },
     "execution_count": 10,
     "metadata": {},
     "output_type": "execute_result"
    }
   ],
   "source": [
    "Map = geemap.Map(center=(38.897957, -77.036560), zoom=8)\n",
    "Map.add_basemap('CartoDB.DarkMatter')\n",
    "vis_params = {'min': -1, 'max': 1, 'palette': ['blue', 'white', 'green'], 'bands': [\"NDVI\"]}\n",
    "Map.addLayer(dc_ndvi.first(), vis_params, \"Landsat-8\")\n",
    "Map"
   ]
  }
 ],
 "metadata": {
  "gist": {
   "data": {
    "description": "python/0_0_3_gee.ipynb",
    "public": false
   },
   "id": ""
  },
  "kernelspec": {
   "display_name": "ox",
   "language": "python",
   "name": "ox"
  },
  "language_info": {
   "codemirror_mode": {
    "name": "ipython",
    "version": 3
   },
   "file_extension": ".py",
   "mimetype": "text/x-python",
   "name": "python",
   "nbconvert_exporter": "python",
   "pygments_lexer": "ipython3",
   "version": "3.11.4"
  },
  "toc": {
   "base_numbering": 1,
   "nav_menu": {},
   "number_sections": true,
   "sideBar": true,
   "skip_h1_title": false,
   "title_cell": "Table of Contents",
   "title_sidebar": "Contents",
   "toc_cell": false,
   "toc_position": {},
   "toc_section_display": true,
   "toc_window_display": false
  }
 },
 "nbformat": 4,
 "nbformat_minor": 5
}
