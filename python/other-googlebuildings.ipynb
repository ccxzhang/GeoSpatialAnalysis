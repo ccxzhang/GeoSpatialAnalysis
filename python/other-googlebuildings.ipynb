{
 "cells": [
  {
   "cell_type": "code",
   "execution_count": 1,
   "id": "e41ef3ae",
   "metadata": {},
   "outputs": [],
   "source": [
    "import os\n",
    "os.chdir(\"../\")\n",
    "\n",
    "import gzip\n",
    "import pandas as pd\n",
    "import numpy as np\n",
    "\n",
    "import geopandas as gpd\n",
    "import shapely\n",
    "from shapely.geometry import mapping, MultiPolygon, Point, Polygon\n",
    "import h3"
   ]
  },
  {
   "cell_type": "code",
   "execution_count": 2,
   "id": "94e4777e",
   "metadata": {},
   "outputs": [],
   "source": [
    "filepath = os.getcwd() + \"/data/685_buildings.csv\"\n",
    "data = pd.read_csv(filepath)\n",
    "data[\"geometry\"] = shapely.wkt.loads(data['geometry'])"
   ]
  },
  {
   "cell_type": "code",
   "execution_count": 3,
   "id": "ae844497",
   "metadata": {
    "scrolled": true
   },
   "outputs": [],
   "source": [
    "gdf = gpd.GeoDataFrame(data, crs=\"EPSG:4326\")"
   ]
  },
  {
   "cell_type": "code",
   "execution_count": 4,
   "id": "ffdc1a46",
   "metadata": {},
   "outputs": [],
   "source": [
    "h3_level = 6\n",
    "def lat_lng_to_h3(row):\n",
    "    return h3.geo_to_h3(row.latitude, row.longitude, h3_level)\n",
    "\n",
    "gdf['hex6'] = gdf.apply(lat_lng_to_h3, axis=1)"
   ]
  },
  {
   "cell_type": "code",
   "execution_count": 5,
   "id": "8f345f63",
   "metadata": {},
   "outputs": [
    {
     "data": {
      "text/html": [
       "<div>\n",
       "<style scoped>\n",
       "    .dataframe tbody tr th:only-of-type {\n",
       "        vertical-align: middle;\n",
       "    }\n",
       "\n",
       "    .dataframe tbody tr th {\n",
       "        vertical-align: top;\n",
       "    }\n",
       "\n",
       "    .dataframe thead th {\n",
       "        text-align: right;\n",
       "    }\n",
       "</style>\n",
       "<table border=\"1\" class=\"dataframe\">\n",
       "  <thead>\n",
       "    <tr style=\"text-align: right;\">\n",
       "      <th></th>\n",
       "      <th>hex6</th>\n",
       "      <th>area_in_meters</th>\n",
       "      <th>geometry</th>\n",
       "    </tr>\n",
       "  </thead>\n",
       "  <tbody>\n",
       "    <tr>\n",
       "      <th>0</th>\n",
       "      <td>8672d0427ffffff</td>\n",
       "      <td>24669.8240</td>\n",
       "      <td>POLYGON ((140.85206 -4.45146, 140.84573 -4.486...</td>\n",
       "    </tr>\n",
       "    <tr>\n",
       "      <th>1</th>\n",
       "      <td>8672d0487ffffff</td>\n",
       "      <td>2109.6011</td>\n",
       "      <td>POLYGON ((140.81407 -4.66372, 140.80774 -4.699...</td>\n",
       "    </tr>\n",
       "    <tr>\n",
       "      <th>2</th>\n",
       "      <td>8672d0497ffffff</td>\n",
       "      <td>7096.1550</td>\n",
       "      <td>POLYGON ((140.77354 -4.71159, 140.76721 -4.746...</td>\n",
       "    </tr>\n",
       "    <tr>\n",
       "      <th>3</th>\n",
       "      <td>8672d049fffffff</td>\n",
       "      <td>6755.5535</td>\n",
       "      <td>POLYGON ((140.83562 -4.72189, 140.82929 -4.757...</td>\n",
       "    </tr>\n",
       "    <tr>\n",
       "      <th>4</th>\n",
       "      <td>8672d04afffffff</td>\n",
       "      <td>8.7050</td>\n",
       "      <td>POLYGON ((140.85461 -4.61583, 140.84828 -4.651...</td>\n",
       "    </tr>\n",
       "  </tbody>\n",
       "</table>\n",
       "</div>"
      ],
      "text/plain": [
       "              hex6  area_in_meters  \\\n",
       "0  8672d0427ffffff      24669.8240   \n",
       "1  8672d0487ffffff       2109.6011   \n",
       "2  8672d0497ffffff       7096.1550   \n",
       "3  8672d049fffffff       6755.5535   \n",
       "4  8672d04afffffff          8.7050   \n",
       "\n",
       "                                            geometry  \n",
       "0  POLYGON ((140.85206 -4.45146, 140.84573 -4.486...  \n",
       "1  POLYGON ((140.81407 -4.66372, 140.80774 -4.699...  \n",
       "2  POLYGON ((140.77354 -4.71159, 140.76721 -4.746...  \n",
       "3  POLYGON ((140.83562 -4.72189, 140.82929 -4.757...  \n",
       "4  POLYGON ((140.85461 -4.61583, 140.84828 -4.651...  "
      ]
     },
     "execution_count": 5,
     "metadata": {},
     "output_type": "execute_result"
    }
   ],
   "source": [
    "ng_hex = gdf.groupby(\"hex6\")[[\"area_in_meters\"]].sum().reset_index().drop_duplicates()\n",
    "ng_hex[\"geometry\"] = [Polygon(h3.h3_to_geo_boundary(i,geo_json=True)) for i in ng_hex.hex6]\n",
    "ng_hex_gdf = gpd.GeoDataFrame(ng_hex, crs=\"EPSG:4326\")\n",
    "ng_hex_gdf.head(5)"
   ]
  },
  {
   "cell_type": "code",
   "execution_count": null,
   "id": "f88b1583",
   "metadata": {},
   "outputs": [],
   "source": [
    "ng_hex_gdf.explore()"
   ]
  }
 ],
 "metadata": {
  "kernelspec": {
   "display_name": "ox",
   "language": "python",
   "name": "ox"
  },
  "language_info": {
   "codemirror_mode": {
    "name": "ipython",
    "version": 3
   },
   "file_extension": ".py",
   "mimetype": "text/x-python",
   "name": "python",
   "nbconvert_exporter": "python",
   "pygments_lexer": "ipython3",
   "version": "3.11.4"
  },
  "toc": {
   "base_numbering": 1,
   "nav_menu": {},
   "number_sections": true,
   "sideBar": true,
   "skip_h1_title": false,
   "title_cell": "Table of Contents",
   "title_sidebar": "Contents",
   "toc_cell": false,
   "toc_position": {},
   "toc_section_display": true,
   "toc_window_display": false
  }
 },
 "nbformat": 4,
 "nbformat_minor": 5
}
