{
 "cells": [
  {
   "cell_type": "code",
   "execution_count": 1,
   "id": "a4051b84",
   "metadata": {
    "scrolled": true
   },
   "outputs": [],
   "source": [
    "import os\n",
    "os.chdir(\"../\")\n",
    "import h5py\n",
    "import numpy as np\n",
    "import geopandas as gpd\n",
    "from osgeo import gdal\n",
    "import rasterio\n",
    "from rasterio.transform import from_origin\n",
    "from blackmarble.utils import bm_raster_i"
   ]
  },
  {
   "cell_type": "code",
   "execution_count": 2,
   "id": "f6950722",
   "metadata": {},
   "outputs": [],
   "source": [
    "h5file = os.getcwd() + \"/data/VNP46A2.A2023001.h32v10.001.2023012014343.h5\""
   ]
  },
  {
   "cell_type": "code",
   "execution_count": 3,
   "id": "a39f9491",
   "metadata": {
    "scrolled": false
   },
   "outputs": [
    {
     "name": "stderr",
     "output_type": "stream",
     "text": [
      "/Users/czhang/miniforge3/envs/ox/lib/python3.11/site-packages/osgeo/gdal.py:287: FutureWarning: Neither gdal.UseExceptions() nor gdal.DontUseExceptions() has been explicitly called. In GDAL 4.0, exceptions will be enabled by default.\n",
      "  warnings.warn(\n"
     ]
    },
    {
     "data": {
      "text/plain": [
       "<osgeo.gdal.Dataset; proxy of <Swig Object of type 'GDALDatasetShadow *' at 0x16830bf60> >"
      ]
     },
     "execution_count": 3,
     "metadata": {},
     "output_type": "execute_result"
    }
   ],
   "source": [
    "hdflayer = gdal.Open(h5file, gdal.GA_ReadOnly)\n",
    "\n",
    "subhdflayer = hdflayer.GetSubDatasets()[0][0]\n",
    "rlayer = gdal.Open(subhdflayer, gdal.GA_ReadOnly)\n",
    "\n",
    "outputRaster = \"test.tif\"\n",
    "\n",
    "HorizontalTileNumber = int(rlayer.GetMetadata_Dict()[\"HorizontalTileNumber\"])\n",
    "VerticalTileNumber = int(rlayer.GetMetadata_Dict()[\"VerticalTileNumber\"])\n",
    "\n",
    "WestBoundCoord = (10 * HorizontalTileNumber) - 180\n",
    "NorthBoundCoord = 90 - (10 * VerticalTileNumber)\n",
    "EastBoundCoord = WestBoundCoord + 10\n",
    "SouthBoundCoord = NorthBoundCoord - 10\n",
    "\n",
    "EPSG = \"-a_srs EPSG:4326\"  #WGS84\n",
    "\n",
    "translateOptionText = EPSG + \" -a_ullr \" + str(WestBoundCoord) + \" \" + str(\n",
    "    NorthBoundCoord) + \" \" + str(EastBoundCoord) + \" \" + str(\n",
    "        SouthBoundCoord)\n",
    "\n",
    "translateoptions = gdal.TranslateOptions(\n",
    "    gdal.ParseCommandLine(translateOptionText))\n",
    "gdal.Translate(outputRaster, rlayer, options=translateoptions)"
   ]
  },
  {
   "cell_type": "code",
   "execution_count": 4,
   "id": "b211fd84",
   "metadata": {},
   "outputs": [
    {
     "data": {
      "text/plain": [
       "{'driver': 'GTiff',\n",
       " 'dtype': 'uint16',\n",
       " 'nodata': None,\n",
       " 'width': 2400,\n",
       " 'height': 2400,\n",
       " 'count': 1,\n",
       " 'crs': CRS.from_epsg(4326),\n",
       " 'transform': Affine(0.004166666666666667, 0.0, 140.0001220703125,\n",
       "        0.0, -0.004166666666666667, -10.0)}"
      ]
     },
     "execution_count": 4,
     "metadata": {},
     "output_type": "execute_result"
    }
   ],
   "source": [
    "raster_bp = rasterio.open(\"test_bp.tif\")\n",
    "raster_bp.meta"
   ]
  },
  {
   "cell_type": "code",
   "execution_count": 8,
   "id": "6cbdbdf5",
   "metadata": {},
   "outputs": [],
   "source": [
    "import rioxarray\n",
    "from shapely.ops import Point\n",
    "r = rioxarray.open_rasterio(\"test.tif\")\n",
    "r = r.squeeze().drop([\"spatial_ref\", \"band\"])\n",
    "r.name = \"ntl\"\n",
    "rdf = r.to_dataframe().reset_index()\n",
    "rdf[\"geometry\"] = [Point(x,y) for x, y in zip(rdf[\"y\"], rdf[\"x\"])]"
   ]
  },
  {
   "cell_type": "code",
   "execution_count": 9,
   "id": "56dbc064",
   "metadata": {},
   "outputs": [],
   "source": [
    "rdf[\"ntl\"] = rdf[\"ntl\"].replace(65535, np.nan)\n",
    "rdf_ntl = gpd.GeoDataFrame(rdf[rdf.ntl.isna() == False].reset_index(drop=True))\n"
   ]
  },
  {
   "cell_type": "code",
   "execution_count": 10,
   "id": "3441698b",
   "metadata": {},
   "outputs": [
    {
     "data": {
      "text/html": [
       "<div style=\"width:100%;\"><div style=\"position:relative;width:100%;height:0;padding-bottom:60%;\"><span style=\"color:#565656\">Make this Notebook Trusted to load map: File -> Trust Notebook</span><iframe srcdoc=\"&lt;!DOCTYPE html&gt;\n",
       "&lt;html&gt;\n",
       "&lt;head&gt;\n",
       "    \n",
       "    &lt;meta http-equiv=&quot;content-type&quot; content=&quot;text/html; charset=UTF-8&quot; /&gt;\n",
       "    \n",
       "        &lt;script&gt;\n",
       "            L_NO_TOUCH = false;\n",
       "            L_DISABLE_3D = false;\n",
       "        &lt;/script&gt;\n",
       "    \n",
       "    &lt;style&gt;html, body {width: 100%;height: 100%;margin: 0;padding: 0;}&lt;/style&gt;\n",
       "    &lt;style&gt;#map {position:absolute;top:0;bottom:0;right:0;left:0;}&lt;/style&gt;\n",
       "    &lt;script src=&quot;https://cdn.jsdelivr.net/npm/leaflet@1.9.3/dist/leaflet.js&quot;&gt;&lt;/script&gt;\n",
       "    &lt;script src=&quot;https://code.jquery.com/jquery-1.12.4.min.js&quot;&gt;&lt;/script&gt;\n",
       "    &lt;script src=&quot;https://cdn.jsdelivr.net/npm/bootstrap@5.2.2/dist/js/bootstrap.bundle.min.js&quot;&gt;&lt;/script&gt;\n",
       "    &lt;script src=&quot;https://cdnjs.cloudflare.com/ajax/libs/Leaflet.awesome-markers/2.0.2/leaflet.awesome-markers.js&quot;&gt;&lt;/script&gt;\n",
       "    &lt;link rel=&quot;stylesheet&quot; href=&quot;https://cdn.jsdelivr.net/npm/leaflet@1.9.3/dist/leaflet.css&quot;/&gt;\n",
       "    &lt;link rel=&quot;stylesheet&quot; href=&quot;https://cdn.jsdelivr.net/npm/bootstrap@5.2.2/dist/css/bootstrap.min.css&quot;/&gt;\n",
       "    &lt;link rel=&quot;stylesheet&quot; href=&quot;https://netdna.bootstrapcdn.com/bootstrap/3.0.0/css/bootstrap.min.css&quot;/&gt;\n",
       "    &lt;link rel=&quot;stylesheet&quot; href=&quot;https://cdn.jsdelivr.net/npm/@fortawesome/fontawesome-free@6.2.0/css/all.min.css&quot;/&gt;\n",
       "    &lt;link rel=&quot;stylesheet&quot; href=&quot;https://cdnjs.cloudflare.com/ajax/libs/Leaflet.awesome-markers/2.0.2/leaflet.awesome-markers.css&quot;/&gt;\n",
       "    &lt;link rel=&quot;stylesheet&quot; href=&quot;https://cdn.jsdelivr.net/gh/python-visualization/folium/folium/templates/leaflet.awesome.rotate.min.css&quot;/&gt;\n",
       "    \n",
       "            &lt;meta name=&quot;viewport&quot; content=&quot;width=device-width,\n",
       "                initial-scale=1.0, maximum-scale=1.0, user-scalable=no&quot; /&gt;\n",
       "            &lt;style&gt;\n",
       "                #map_b6b09ba68f59f920a4300badf8fcd789 {\n",
       "                    position: relative;\n",
       "                    width: 100.0%;\n",
       "                    height: 100.0%;\n",
       "                    left: 0.0%;\n",
       "                    top: 0.0%;\n",
       "                }\n",
       "                .leaflet-container { font-size: 1rem; }\n",
       "            &lt;/style&gt;\n",
       "        \n",
       "    \n",
       "                    &lt;style&gt;\n",
       "                        .foliumtooltip {\n",
       "                            \n",
       "                        }\n",
       "                       .foliumtooltip table{\n",
       "                            margin: auto;\n",
       "                        }\n",
       "                        .foliumtooltip tr{\n",
       "                            text-align: left;\n",
       "                        }\n",
       "                        .foliumtooltip th{\n",
       "                            padding: 2px; padding-right: 8px;\n",
       "                        }\n",
       "                    &lt;/style&gt;\n",
       "            \n",
       "&lt;/head&gt;\n",
       "&lt;body&gt;\n",
       "    \n",
       "    \n",
       "            &lt;div class=&quot;folium-map&quot; id=&quot;map_b6b09ba68f59f920a4300badf8fcd789&quot; &gt;&lt;/div&gt;\n",
       "        \n",
       "&lt;/body&gt;\n",
       "&lt;script&gt;\n",
       "    \n",
       "    \n",
       "            var map_b6b09ba68f59f920a4300badf8fcd789 = L.map(\n",
       "                &quot;map_b6b09ba68f59f920a4300badf8fcd789&quot;,\n",
       "                {\n",
       "                    center: [146.02291666666667, -17.412499999999998],\n",
       "                    crs: L.CRS.Simple,\n",
       "                    zoom: 10,\n",
       "                    zoomControl: true,\n",
       "                    preferCanvas: false,\n",
       "                }\n",
       "            );\n",
       "            L.control.scale().addTo(map_b6b09ba68f59f920a4300badf8fcd789);\n",
       "\n",
       "            \n",
       "\n",
       "        \n",
       "    \n",
       "            map_b6b09ba68f59f920a4300badf8fcd789.fitBounds(\n",
       "                [[145.98125, -17.43958333333333], [146.06458333333333, -17.385416666666664]],\n",
       "                {}\n",
       "            );\n",
       "        \n",
       "    \n",
       "        function geo_json_b0065d1479f60430ee3a9969761351d9_styler(feature) {\n",
       "            switch(feature.id) {\n",
       "                default:\n",
       "                    return {&quot;fillOpacity&quot;: 0.5, &quot;weight&quot;: 2};\n",
       "            }\n",
       "        }\n",
       "        function geo_json_b0065d1479f60430ee3a9969761351d9_highlighter(feature) {\n",
       "            switch(feature.id) {\n",
       "                default:\n",
       "                    return {&quot;fillOpacity&quot;: 0.75};\n",
       "            }\n",
       "        }\n",
       "        function geo_json_b0065d1479f60430ee3a9969761351d9_pointToLayer(feature, latlng) {\n",
       "            var opts = {&quot;bubblingMouseEvents&quot;: true, &quot;color&quot;: &quot;#3388ff&quot;, &quot;dashArray&quot;: null, &quot;dashOffset&quot;: null, &quot;fill&quot;: true, &quot;fillColor&quot;: &quot;#3388ff&quot;, &quot;fillOpacity&quot;: 0.2, &quot;fillRule&quot;: &quot;evenodd&quot;, &quot;lineCap&quot;: &quot;round&quot;, &quot;lineJoin&quot;: &quot;round&quot;, &quot;opacity&quot;: 1.0, &quot;radius&quot;: 2, &quot;stroke&quot;: true, &quot;weight&quot;: 3};\n",
       "            \n",
       "            let style = geo_json_b0065d1479f60430ee3a9969761351d9_styler(feature)\n",
       "            Object.assign(opts, style)\n",
       "            \n",
       "            return new L.CircleMarker(latlng, opts)\n",
       "        }\n",
       "\n",
       "        function geo_json_b0065d1479f60430ee3a9969761351d9_onEachFeature(feature, layer) {\n",
       "            layer.on({\n",
       "                mouseout: function(e) {\n",
       "                    if(typeof e.target.setStyle === &quot;function&quot;){\n",
       "                        geo_json_b0065d1479f60430ee3a9969761351d9.resetStyle(e.target);\n",
       "                    }\n",
       "                },\n",
       "                mouseover: function(e) {\n",
       "                    if(typeof e.target.setStyle === &quot;function&quot;){\n",
       "                        const highlightStyle = geo_json_b0065d1479f60430ee3a9969761351d9_highlighter(e.target.feature)\n",
       "                        e.target.setStyle(highlightStyle);\n",
       "                    }\n",
       "                },\n",
       "            });\n",
       "        };\n",
       "        var geo_json_b0065d1479f60430ee3a9969761351d9 = L.geoJson(null, {\n",
       "                onEachFeature: geo_json_b0065d1479f60430ee3a9969761351d9_onEachFeature,\n",
       "            \n",
       "                style: geo_json_b0065d1479f60430ee3a9969761351d9_styler,\n",
       "                pointToLayer: geo_json_b0065d1479f60430ee3a9969761351d9_pointToLayer\n",
       "        });\n",
       "\n",
       "        function geo_json_b0065d1479f60430ee3a9969761351d9_add (data) {\n",
       "            geo_json_b0065d1479f60430ee3a9969761351d9\n",
       "                .addData(data)\n",
       "                .addTo(map_b6b09ba68f59f920a4300badf8fcd789);\n",
       "        }\n",
       "            geo_json_b0065d1479f60430ee3a9969761351d9_add({&quot;bbox&quot;: [-17.43958333333333, 145.98125, -17.385416666666664, 146.06458333333333], &quot;features&quot;: [{&quot;bbox&quot;: [-17.385416666666664, 146.05208333333334, -17.385416666666664, 146.05208333333334], &quot;geometry&quot;: {&quot;coordinates&quot;: [-17.385416666666664, 146.05208333333334], &quot;type&quot;: &quot;Point&quot;}, &quot;id&quot;: &quot;0&quot;, &quot;properties&quot;: {&quot;ntl&quot;: 0.0, &quot;x&quot;: 146.05208333333334, &quot;y&quot;: -17.385416666666664}, &quot;type&quot;: &quot;Feature&quot;}, {&quot;bbox&quot;: [-17.389583333333334, 146.06041666666667, -17.389583333333334, 146.06041666666667], &quot;geometry&quot;: {&quot;coordinates&quot;: [-17.389583333333334, 146.06041666666667], &quot;type&quot;: &quot;Point&quot;}, &quot;id&quot;: &quot;1&quot;, &quot;properties&quot;: {&quot;ntl&quot;: 0.0, &quot;x&quot;: 146.06041666666667, &quot;y&quot;: -17.389583333333334}, &quot;type&quot;: &quot;Feature&quot;}, {&quot;bbox&quot;: [-17.389583333333334, 146.06458333333333, -17.389583333333334, 146.06458333333333], &quot;geometry&quot;: {&quot;coordinates&quot;: [-17.389583333333334, 146.06458333333333], &quot;type&quot;: &quot;Point&quot;}, &quot;id&quot;: &quot;2&quot;, &quot;properties&quot;: {&quot;ntl&quot;: 1.0, &quot;x&quot;: 146.06458333333333, &quot;y&quot;: -17.389583333333334}, &quot;type&quot;: &quot;Feature&quot;}, {&quot;bbox&quot;: [-17.39375, 146.05208333333334, -17.39375, 146.05208333333334], &quot;geometry&quot;: {&quot;coordinates&quot;: [-17.39375, 146.05208333333334], &quot;type&quot;: &quot;Point&quot;}, &quot;id&quot;: &quot;3&quot;, &quot;properties&quot;: {&quot;ntl&quot;: 2.0, &quot;x&quot;: 146.05208333333334, &quot;y&quot;: -17.39375}, &quot;type&quot;: &quot;Feature&quot;}, {&quot;bbox&quot;: [-17.39375, 146.05625, -17.39375, 146.05625], &quot;geometry&quot;: {&quot;coordinates&quot;: [-17.39375, 146.05625], &quot;type&quot;: &quot;Point&quot;}, &quot;id&quot;: &quot;4&quot;, &quot;properties&quot;: {&quot;ntl&quot;: 0.0, &quot;x&quot;: 146.05625, &quot;y&quot;: -17.39375}, &quot;type&quot;: &quot;Feature&quot;}, {&quot;bbox&quot;: [-17.397916666666667, 145.99375, -17.397916666666667, 145.99375], &quot;geometry&quot;: {&quot;coordinates&quot;: [-17.397916666666667, 145.99375], &quot;type&quot;: &quot;Point&quot;}, &quot;id&quot;: &quot;5&quot;, &quot;properties&quot;: {&quot;ntl&quot;: 1.0, &quot;x&quot;: 145.99375, &quot;y&quot;: -17.397916666666667}, &quot;type&quot;: &quot;Feature&quot;}, {&quot;bbox&quot;: [-17.397916666666667, 146.05208333333334, -17.397916666666667, 146.05208333333334], &quot;geometry&quot;: {&quot;coordinates&quot;: [-17.397916666666667, 146.05208333333334], &quot;type&quot;: &quot;Point&quot;}, &quot;id&quot;: &quot;6&quot;, &quot;properties&quot;: {&quot;ntl&quot;: 0.0, &quot;x&quot;: 146.05208333333334, &quot;y&quot;: -17.397916666666667}, &quot;type&quot;: &quot;Feature&quot;}, {&quot;bbox&quot;: [-17.397916666666667, 146.05625, -17.397916666666667, 146.05625], &quot;geometry&quot;: {&quot;coordinates&quot;: [-17.397916666666667, 146.05625], &quot;type&quot;: &quot;Point&quot;}, &quot;id&quot;: &quot;7&quot;, &quot;properties&quot;: {&quot;ntl&quot;: 0.0, &quot;x&quot;: 146.05625, &quot;y&quot;: -17.397916666666667}, &quot;type&quot;: &quot;Feature&quot;}, {&quot;bbox&quot;: [-17.402083333333334, 145.98541666666665, -17.402083333333334, 145.98541666666665], &quot;geometry&quot;: {&quot;coordinates&quot;: [-17.402083333333334, 145.98541666666665], &quot;type&quot;: &quot;Point&quot;}, &quot;id&quot;: &quot;8&quot;, &quot;properties&quot;: {&quot;ntl&quot;: 1.0, &quot;x&quot;: 145.98541666666665, &quot;y&quot;: -17.402083333333334}, &quot;type&quot;: &quot;Feature&quot;}, {&quot;bbox&quot;: [-17.402083333333334, 145.98958333333334, -17.402083333333334, 145.98958333333334], &quot;geometry&quot;: {&quot;coordinates&quot;: [-17.402083333333334, 145.98958333333334], &quot;type&quot;: &quot;Point&quot;}, &quot;id&quot;: &quot;9&quot;, &quot;properties&quot;: {&quot;ntl&quot;: 1.0, &quot;x&quot;: 145.98958333333334, &quot;y&quot;: -17.402083333333334}, &quot;type&quot;: &quot;Feature&quot;}, {&quot;bbox&quot;: [-17.402083333333334, 145.99375, -17.402083333333334, 145.99375], &quot;geometry&quot;: {&quot;coordinates&quot;: [-17.402083333333334, 145.99375], &quot;type&quot;: &quot;Point&quot;}, &quot;id&quot;: &quot;10&quot;, &quot;properties&quot;: {&quot;ntl&quot;: 1.0, &quot;x&quot;: 145.99375, &quot;y&quot;: -17.402083333333334}, &quot;type&quot;: &quot;Feature&quot;}, {&quot;bbox&quot;: [-17.40625, 145.98541666666665, -17.40625, 145.98541666666665], &quot;geometry&quot;: {&quot;coordinates&quot;: [-17.40625, 145.98541666666665], &quot;type&quot;: &quot;Point&quot;}, &quot;id&quot;: &quot;11&quot;, &quot;properties&quot;: {&quot;ntl&quot;: 1.0, &quot;x&quot;: 145.98541666666665, &quot;y&quot;: -17.40625}, &quot;type&quot;: &quot;Feature&quot;}, {&quot;bbox&quot;: [-17.40625, 145.98958333333334, -17.40625, 145.98958333333334], &quot;geometry&quot;: {&quot;coordinates&quot;: [-17.40625, 145.98958333333334], &quot;type&quot;: &quot;Point&quot;}, &quot;id&quot;: &quot;12&quot;, &quot;properties&quot;: {&quot;ntl&quot;: 1.0, &quot;x&quot;: 145.98958333333334, &quot;y&quot;: -17.40625}, &quot;type&quot;: &quot;Feature&quot;}, {&quot;bbox&quot;: [-17.40625, 146.01041666666666, -17.40625, 146.01041666666666], &quot;geometry&quot;: {&quot;coordinates&quot;: [-17.40625, 146.01041666666666], &quot;type&quot;: &quot;Point&quot;}, &quot;id&quot;: &quot;13&quot;, &quot;properties&quot;: {&quot;ntl&quot;: 2.0, &quot;x&quot;: 146.01041666666666, &quot;y&quot;: -17.40625}, &quot;type&quot;: &quot;Feature&quot;}, {&quot;bbox&quot;: [-17.40625, 146.02708333333334, -17.40625, 146.02708333333334], &quot;geometry&quot;: {&quot;coordinates&quot;: [-17.40625, 146.02708333333334], &quot;type&quot;: &quot;Point&quot;}, &quot;id&quot;: &quot;14&quot;, &quot;properties&quot;: {&quot;ntl&quot;: 0.0, &quot;x&quot;: 146.02708333333334, &quot;y&quot;: -17.40625}, &quot;type&quot;: &quot;Feature&quot;}, {&quot;bbox&quot;: [-17.410416666666666, 145.99375, -17.410416666666666, 145.99375], &quot;geometry&quot;: {&quot;coordinates&quot;: [-17.410416666666666, 145.99375], &quot;type&quot;: &quot;Point&quot;}, &quot;id&quot;: &quot;15&quot;, &quot;properties&quot;: {&quot;ntl&quot;: 2.0, &quot;x&quot;: 145.99375, &quot;y&quot;: -17.410416666666666}, &quot;type&quot;: &quot;Feature&quot;}, {&quot;bbox&quot;: [-17.410416666666666, 146.02708333333334, -17.410416666666666, 146.02708333333334], &quot;geometry&quot;: {&quot;coordinates&quot;: [-17.410416666666666, 146.02708333333334], &quot;type&quot;: &quot;Point&quot;}, &quot;id&quot;: &quot;16&quot;, &quot;properties&quot;: {&quot;ntl&quot;: 1.0, &quot;x&quot;: 146.02708333333334, &quot;y&quot;: -17.410416666666666}, &quot;type&quot;: &quot;Feature&quot;}, {&quot;bbox&quot;: [-17.410416666666666, 146.03125, -17.410416666666666, 146.03125], &quot;geometry&quot;: {&quot;coordinates&quot;: [-17.410416666666666, 146.03125], &quot;type&quot;: &quot;Point&quot;}, &quot;id&quot;: &quot;17&quot;, &quot;properties&quot;: {&quot;ntl&quot;: 0.0, &quot;x&quot;: 146.03125, &quot;y&quot;: -17.410416666666666}, &quot;type&quot;: &quot;Feature&quot;}, {&quot;bbox&quot;: [-17.414583333333333, 145.99375, -17.414583333333333, 145.99375], &quot;geometry&quot;: {&quot;coordinates&quot;: [-17.414583333333333, 145.99375], &quot;type&quot;: &quot;Point&quot;}, &quot;id&quot;: &quot;18&quot;, &quot;properties&quot;: {&quot;ntl&quot;: 2.0, &quot;x&quot;: 145.99375, &quot;y&quot;: -17.414583333333333}, &quot;type&quot;: &quot;Feature&quot;}, {&quot;bbox&quot;: [-17.414583333333333, 145.99791666666667, -17.414583333333333, 145.99791666666667], &quot;geometry&quot;: {&quot;coordinates&quot;: [-17.414583333333333, 145.99791666666667], &quot;type&quot;: &quot;Point&quot;}, &quot;id&quot;: &quot;19&quot;, &quot;properties&quot;: {&quot;ntl&quot;: 2.0, &quot;x&quot;: 145.99791666666667, &quot;y&quot;: -17.414583333333333}, &quot;type&quot;: &quot;Feature&quot;}, {&quot;bbox&quot;: [-17.414583333333333, 146.02291666666667, -17.414583333333333, 146.02291666666667], &quot;geometry&quot;: {&quot;coordinates&quot;: [-17.414583333333333, 146.02291666666667], &quot;type&quot;: &quot;Point&quot;}, &quot;id&quot;: &quot;20&quot;, &quot;properties&quot;: {&quot;ntl&quot;: 2.0, &quot;x&quot;: 146.02291666666667, &quot;y&quot;: -17.414583333333333}, &quot;type&quot;: &quot;Feature&quot;}, {&quot;bbox&quot;: [-17.414583333333333, 146.02708333333334, -17.414583333333333, 146.02708333333334], &quot;geometry&quot;: {&quot;coordinates&quot;: [-17.414583333333333, 146.02708333333334], &quot;type&quot;: &quot;Point&quot;}, &quot;id&quot;: &quot;21&quot;, &quot;properties&quot;: {&quot;ntl&quot;: 0.0, &quot;x&quot;: 146.02708333333334, &quot;y&quot;: -17.414583333333333}, &quot;type&quot;: &quot;Feature&quot;}, {&quot;bbox&quot;: [-17.414583333333333, 146.03125, -17.414583333333333, 146.03125], &quot;geometry&quot;: {&quot;coordinates&quot;: [-17.414583333333333, 146.03125], &quot;type&quot;: &quot;Point&quot;}, &quot;id&quot;: &quot;22&quot;, &quot;properties&quot;: {&quot;ntl&quot;: 2.0, &quot;x&quot;: 146.03125, &quot;y&quot;: -17.414583333333333}, &quot;type&quot;: &quot;Feature&quot;}, {&quot;bbox&quot;: [-17.414583333333333, 146.04791666666665, -17.414583333333333, 146.04791666666665], &quot;geometry&quot;: {&quot;coordinates&quot;: [-17.414583333333333, 146.04791666666665], &quot;type&quot;: &quot;Point&quot;}, &quot;id&quot;: &quot;23&quot;, &quot;properties&quot;: {&quot;ntl&quot;: 1.0, &quot;x&quot;: 146.04791666666665, &quot;y&quot;: -17.414583333333333}, &quot;type&quot;: &quot;Feature&quot;}, {&quot;bbox&quot;: [-17.41875, 145.98958333333334, -17.41875, 145.98958333333334], &quot;geometry&quot;: {&quot;coordinates&quot;: [-17.41875, 145.98958333333334], &quot;type&quot;: &quot;Point&quot;}, &quot;id&quot;: &quot;24&quot;, &quot;properties&quot;: {&quot;ntl&quot;: 0.0, &quot;x&quot;: 145.98958333333334, &quot;y&quot;: -17.41875}, &quot;type&quot;: &quot;Feature&quot;}, {&quot;bbox&quot;: [-17.41875, 145.99375, -17.41875, 145.99375], &quot;geometry&quot;: {&quot;coordinates&quot;: [-17.41875, 145.99375], &quot;type&quot;: &quot;Point&quot;}, &quot;id&quot;: &quot;25&quot;, &quot;properties&quot;: {&quot;ntl&quot;: 2.0, &quot;x&quot;: 145.99375, &quot;y&quot;: -17.41875}, &quot;type&quot;: &quot;Feature&quot;}, {&quot;bbox&quot;: [-17.41875, 145.99791666666667, -17.41875, 145.99791666666667], &quot;geometry&quot;: {&quot;coordinates&quot;: [-17.41875, 145.99791666666667], &quot;type&quot;: &quot;Point&quot;}, &quot;id&quot;: &quot;26&quot;, &quot;properties&quot;: {&quot;ntl&quot;: 0.0, &quot;x&quot;: 145.99791666666667, &quot;y&quot;: -17.41875}, &quot;type&quot;: &quot;Feature&quot;}, {&quot;bbox&quot;: [-17.41875, 146.02291666666667, -17.41875, 146.02291666666667], &quot;geometry&quot;: {&quot;coordinates&quot;: [-17.41875, 146.02291666666667], &quot;type&quot;: &quot;Point&quot;}, &quot;id&quot;: &quot;27&quot;, &quot;properties&quot;: {&quot;ntl&quot;: 3.0, &quot;x&quot;: 146.02291666666667, &quot;y&quot;: -17.41875}, &quot;type&quot;: &quot;Feature&quot;}, {&quot;bbox&quot;: [-17.422916666666666, 145.98958333333334, -17.422916666666666, 145.98958333333334], &quot;geometry&quot;: {&quot;coordinates&quot;: [-17.422916666666666, 145.98958333333334], &quot;type&quot;: &quot;Point&quot;}, &quot;id&quot;: &quot;28&quot;, &quot;properties&quot;: {&quot;ntl&quot;: 3.0, &quot;x&quot;: 145.98958333333334, &quot;y&quot;: -17.422916666666666}, &quot;type&quot;: &quot;Feature&quot;}, {&quot;bbox&quot;: [-17.422916666666666, 145.99375, -17.422916666666666, 145.99375], &quot;geometry&quot;: {&quot;coordinates&quot;: [-17.422916666666666, 145.99375], &quot;type&quot;: &quot;Point&quot;}, &quot;id&quot;: &quot;29&quot;, &quot;properties&quot;: {&quot;ntl&quot;: 0.0, &quot;x&quot;: 145.99375, &quot;y&quot;: -17.422916666666666}, &quot;type&quot;: &quot;Feature&quot;}, {&quot;bbox&quot;: [-17.422916666666666, 145.99791666666667, -17.422916666666666, 145.99791666666667], &quot;geometry&quot;: {&quot;coordinates&quot;: [-17.422916666666666, 145.99791666666667], &quot;type&quot;: &quot;Point&quot;}, &quot;id&quot;: &quot;30&quot;, &quot;properties&quot;: {&quot;ntl&quot;: 0.0, &quot;x&quot;: 145.99791666666667, &quot;y&quot;: -17.422916666666666}, &quot;type&quot;: &quot;Feature&quot;}, {&quot;bbox&quot;: [-17.422916666666666, 146.05625, -17.422916666666666, 146.05625], &quot;geometry&quot;: {&quot;coordinates&quot;: [-17.422916666666666, 146.05625], &quot;type&quot;: &quot;Point&quot;}, &quot;id&quot;: &quot;31&quot;, &quot;properties&quot;: {&quot;ntl&quot;: 1.0, &quot;x&quot;: 146.05625, &quot;y&quot;: -17.422916666666666}, &quot;type&quot;: &quot;Feature&quot;}, {&quot;bbox&quot;: [-17.427083333333332, 145.98958333333334, -17.427083333333332, 145.98958333333334], &quot;geometry&quot;: {&quot;coordinates&quot;: [-17.427083333333332, 145.98958333333334], &quot;type&quot;: &quot;Point&quot;}, &quot;id&quot;: &quot;32&quot;, &quot;properties&quot;: {&quot;ntl&quot;: 1.0, &quot;x&quot;: 145.98958333333334, &quot;y&quot;: -17.427083333333332}, &quot;type&quot;: &quot;Feature&quot;}, {&quot;bbox&quot;: [-17.427083333333332, 145.99375, -17.427083333333332, 145.99375], &quot;geometry&quot;: {&quot;coordinates&quot;: [-17.427083333333332, 145.99375], &quot;type&quot;: &quot;Point&quot;}, &quot;id&quot;: &quot;33&quot;, &quot;properties&quot;: {&quot;ntl&quot;: 1.0, &quot;x&quot;: 145.99375, &quot;y&quot;: -17.427083333333332}, &quot;type&quot;: &quot;Feature&quot;}, {&quot;bbox&quot;: [-17.427083333333332, 145.99791666666667, -17.427083333333332, 145.99791666666667], &quot;geometry&quot;: {&quot;coordinates&quot;: [-17.427083333333332, 145.99791666666667], &quot;type&quot;: &quot;Point&quot;}, &quot;id&quot;: &quot;34&quot;, &quot;properties&quot;: {&quot;ntl&quot;: 0.0, &quot;x&quot;: 145.99791666666667, &quot;y&quot;: -17.427083333333332}, &quot;type&quot;: &quot;Feature&quot;}, {&quot;bbox&quot;: [-17.427083333333332, 146.05625, -17.427083333333332, 146.05625], &quot;geometry&quot;: {&quot;coordinates&quot;: [-17.427083333333332, 146.05625], &quot;type&quot;: &quot;Point&quot;}, &quot;id&quot;: &quot;35&quot;, &quot;properties&quot;: {&quot;ntl&quot;: 2.0, &quot;x&quot;: 146.05625, &quot;y&quot;: -17.427083333333332}, &quot;type&quot;: &quot;Feature&quot;}, {&quot;bbox&quot;: [-17.43125, 145.98958333333334, -17.43125, 145.98958333333334], &quot;geometry&quot;: {&quot;coordinates&quot;: [-17.43125, 145.98958333333334], &quot;type&quot;: &quot;Point&quot;}, &quot;id&quot;: &quot;36&quot;, &quot;properties&quot;: {&quot;ntl&quot;: 0.0, &quot;x&quot;: 145.98958333333334, &quot;y&quot;: -17.43125}, &quot;type&quot;: &quot;Feature&quot;}, {&quot;bbox&quot;: [-17.43125, 145.99375, -17.43125, 145.99375], &quot;geometry&quot;: {&quot;coordinates&quot;: [-17.43125, 145.99375], &quot;type&quot;: &quot;Point&quot;}, &quot;id&quot;: &quot;37&quot;, &quot;properties&quot;: {&quot;ntl&quot;: 1.0, &quot;x&quot;: 145.99375, &quot;y&quot;: -17.43125}, &quot;type&quot;: &quot;Feature&quot;}, {&quot;bbox&quot;: [-17.43125, 145.99791666666667, -17.43125, 145.99791666666667], &quot;geometry&quot;: {&quot;coordinates&quot;: [-17.43125, 145.99791666666667], &quot;type&quot;: &quot;Point&quot;}, &quot;id&quot;: &quot;38&quot;, &quot;properties&quot;: {&quot;ntl&quot;: 1.0, &quot;x&quot;: 145.99791666666667, &quot;y&quot;: -17.43125}, &quot;type&quot;: &quot;Feature&quot;}, {&quot;bbox&quot;: [-17.43125, 146.01875, -17.43125, 146.01875], &quot;geometry&quot;: {&quot;coordinates&quot;: [-17.43125, 146.01875], &quot;type&quot;: &quot;Point&quot;}, &quot;id&quot;: &quot;39&quot;, &quot;properties&quot;: {&quot;ntl&quot;: 1.0, &quot;x&quot;: 146.01875, &quot;y&quot;: -17.43125}, &quot;type&quot;: &quot;Feature&quot;}, {&quot;bbox&quot;: [-17.43541666666667, 145.98958333333334, -17.43541666666667, 145.98958333333334], &quot;geometry&quot;: {&quot;coordinates&quot;: [-17.43541666666667, 145.98958333333334], &quot;type&quot;: &quot;Point&quot;}, &quot;id&quot;: &quot;40&quot;, &quot;properties&quot;: {&quot;ntl&quot;: 2.0, &quot;x&quot;: 145.98958333333334, &quot;y&quot;: -17.43541666666667}, &quot;type&quot;: &quot;Feature&quot;}, {&quot;bbox&quot;: [-17.43541666666667, 145.99375, -17.43541666666667, 145.99375], &quot;geometry&quot;: {&quot;coordinates&quot;: [-17.43541666666667, 145.99375], &quot;type&quot;: &quot;Point&quot;}, &quot;id&quot;: &quot;41&quot;, &quot;properties&quot;: {&quot;ntl&quot;: 2.0, &quot;x&quot;: 145.99375, &quot;y&quot;: -17.43541666666667}, &quot;type&quot;: &quot;Feature&quot;}, {&quot;bbox&quot;: [-17.43541666666667, 145.99791666666667, -17.43541666666667, 145.99791666666667], &quot;geometry&quot;: {&quot;coordinates&quot;: [-17.43541666666667, 145.99791666666667], &quot;type&quot;: &quot;Point&quot;}, &quot;id&quot;: &quot;42&quot;, &quot;properties&quot;: {&quot;ntl&quot;: 2.0, &quot;x&quot;: 145.99791666666667, &quot;y&quot;: -17.43541666666667}, &quot;type&quot;: &quot;Feature&quot;}, {&quot;bbox&quot;: [-17.43541666666667, 146.00208333333333, -17.43541666666667, 146.00208333333333], &quot;geometry&quot;: {&quot;coordinates&quot;: [-17.43541666666667, 146.00208333333333], &quot;type&quot;: &quot;Point&quot;}, &quot;id&quot;: &quot;43&quot;, &quot;properties&quot;: {&quot;ntl&quot;: 2.0, &quot;x&quot;: 146.00208333333333, &quot;y&quot;: -17.43541666666667}, &quot;type&quot;: &quot;Feature&quot;}, {&quot;bbox&quot;: [-17.43541666666667, 146.00625, -17.43541666666667, 146.00625], &quot;geometry&quot;: {&quot;coordinates&quot;: [-17.43541666666667, 146.00625], &quot;type&quot;: &quot;Point&quot;}, &quot;id&quot;: &quot;44&quot;, &quot;properties&quot;: {&quot;ntl&quot;: 0.0, &quot;x&quot;: 146.00625, &quot;y&quot;: -17.43541666666667}, &quot;type&quot;: &quot;Feature&quot;}, {&quot;bbox&quot;: [-17.43541666666667, 146.01875, -17.43541666666667, 146.01875], &quot;geometry&quot;: {&quot;coordinates&quot;: [-17.43541666666667, 146.01875], &quot;type&quot;: &quot;Point&quot;}, &quot;id&quot;: &quot;45&quot;, &quot;properties&quot;: {&quot;ntl&quot;: 2.0, &quot;x&quot;: 146.01875, &quot;y&quot;: -17.43541666666667}, &quot;type&quot;: &quot;Feature&quot;}, {&quot;bbox&quot;: [-17.43541666666667, 146.05208333333334, -17.43541666666667, 146.05208333333334], &quot;geometry&quot;: {&quot;coordinates&quot;: [-17.43541666666667, 146.05208333333334], &quot;type&quot;: &quot;Point&quot;}, &quot;id&quot;: &quot;46&quot;, &quot;properties&quot;: {&quot;ntl&quot;: 3.0, &quot;x&quot;: 146.05208333333334, &quot;y&quot;: -17.43541666666667}, &quot;type&quot;: &quot;Feature&quot;}, {&quot;bbox&quot;: [-17.43541666666667, 146.05625, -17.43541666666667, 146.05625], &quot;geometry&quot;: {&quot;coordinates&quot;: [-17.43541666666667, 146.05625], &quot;type&quot;: &quot;Point&quot;}, &quot;id&quot;: &quot;47&quot;, &quot;properties&quot;: {&quot;ntl&quot;: 1.0, &quot;x&quot;: 146.05625, &quot;y&quot;: -17.43541666666667}, &quot;type&quot;: &quot;Feature&quot;}, {&quot;bbox&quot;: [-17.43958333333333, 145.98125, -17.43958333333333, 145.98125], &quot;geometry&quot;: {&quot;coordinates&quot;: [-17.43958333333333, 145.98125], &quot;type&quot;: &quot;Point&quot;}, &quot;id&quot;: &quot;48&quot;, &quot;properties&quot;: {&quot;ntl&quot;: 0.0, &quot;x&quot;: 145.98125, &quot;y&quot;: -17.43958333333333}, &quot;type&quot;: &quot;Feature&quot;}, {&quot;bbox&quot;: [-17.43958333333333, 145.98541666666665, -17.43958333333333, 145.98541666666665], &quot;geometry&quot;: {&quot;coordinates&quot;: [-17.43958333333333, 145.98541666666665], &quot;type&quot;: &quot;Point&quot;}, &quot;id&quot;: &quot;49&quot;, &quot;properties&quot;: {&quot;ntl&quot;: 0.0, &quot;x&quot;: 145.98541666666665, &quot;y&quot;: -17.43958333333333}, &quot;type&quot;: &quot;Feature&quot;}], &quot;type&quot;: &quot;FeatureCollection&quot;});\n",
       "\n",
       "        \n",
       "    \n",
       "    geo_json_b0065d1479f60430ee3a9969761351d9.bindTooltip(\n",
       "    function(layer){\n",
       "    let div = L.DomUtil.create(&#x27;div&#x27;);\n",
       "    \n",
       "    let handleObject = feature=&gt;typeof(feature)==&#x27;object&#x27; ? JSON.stringify(feature) : feature;\n",
       "    let fields = [&quot;y&quot;, &quot;x&quot;, &quot;ntl&quot;];\n",
       "    let aliases = [&quot;y&quot;, &quot;x&quot;, &quot;ntl&quot;];\n",
       "    let table = &#x27;&lt;table&gt;&#x27; +\n",
       "        String(\n",
       "        fields.map(\n",
       "        (v,i)=&gt;\n",
       "        `&lt;tr&gt;\n",
       "            &lt;th&gt;${aliases[i]}&lt;/th&gt;\n",
       "            \n",
       "            &lt;td&gt;${handleObject(layer.feature.properties[v])}&lt;/td&gt;\n",
       "        &lt;/tr&gt;`).join(&#x27;&#x27;))\n",
       "    +&#x27;&lt;/table&gt;&#x27;;\n",
       "    div.innerHTML=table;\n",
       "    \n",
       "    return div\n",
       "    }\n",
       "    ,{&quot;className&quot;: &quot;foliumtooltip&quot;, &quot;sticky&quot;: true});\n",
       "                     \n",
       "&lt;/script&gt;\n",
       "&lt;/html&gt;\" style=\"position:absolute;width:100%;height:100%;left:0;top:0;border:none !important;\" allowfullscreen webkitallowfullscreen mozallowfullscreen></iframe></div></div>"
      ],
      "text/plain": [
       "<folium.folium.Map at 0x2ac2fe190>"
      ]
     },
     "execution_count": 10,
     "metadata": {},
     "output_type": "execute_result"
    }
   ],
   "source": [
    "rdf_ntl.head(50).explore()"
   ]
  },
  {
   "cell_type": "code",
   "execution_count": 5,
   "id": "9aee0205",
   "metadata": {},
   "outputs": [
    {
     "data": {
      "text/plain": [
       "array([    0,     1,     2,     3,     4,     5,     6, 65535],\n",
       "      dtype=uint16)"
      ]
     },
     "execution_count": 5,
     "metadata": {},
     "output_type": "execute_result"
    }
   ],
   "source": [
    "np.unique(raster_bp.read())"
   ]
  },
  {
   "cell_type": "code",
   "execution_count": 6,
   "id": "b2cf36b1",
   "metadata": {},
   "outputs": [
    {
     "data": {
      "text/plain": [
       "{'driver': 'GTiff',\n",
       " 'dtype': 'uint16',\n",
       " 'nodata': None,\n",
       " 'width': 2400,\n",
       " 'height': 2400,\n",
       " 'count': 1,\n",
       " 'crs': CRS.from_epsg(4326),\n",
       " 'transform': Affine(0.004166666666666667, 0.0, 140.0,\n",
       "        0.0, -0.004166666666666667, -10.0)}"
      ]
     },
     "execution_count": 6,
     "metadata": {},
     "output_type": "execute_result"
    }
   ],
   "source": [
    "raster_official = rasterio.open(\"test.tif\")\n",
    "raster_official.meta"
   ]
  },
  {
   "cell_type": "code",
   "execution_count": 7,
   "id": "56a04a08",
   "metadata": {},
   "outputs": [],
   "source": [
    "bm_tiles_path = os.getcwd() + \"/data/BlackMarbleTiles/\"\n",
    "bm_tiles = gpd.read_file(bm_tiles_path)\n",
    "bounds = bm_tiles[bm_tiles[\"TileID\"] == \"h32v10\"].geometry.bounds\n",
    "xMin = float(bounds.minx.iloc[0])\n",
    "yMin = float(bounds.miny.iloc[0])\n",
    "xMax = float(bounds.maxx.iloc[0])\n",
    "yMax = float(bounds.maxy.iloc[0])"
   ]
  },
  {
   "cell_type": "code",
   "execution_count": 8,
   "id": "5f1553ad",
   "metadata": {},
   "outputs": [],
   "source": [
    "h5f = h5py.File(h5file)\n",
    "data = out = h5f[\"HDFEOS\"][\"GRIDS\"][\"VNP_Grid_DNB\"][\"Data Fields\"][\"DNB_BRDF-Corrected_NTL\"]"
   ]
  },
  {
   "cell_type": "code",
   "execution_count": 9,
   "id": "f3f887f4",
   "metadata": {},
   "outputs": [],
   "source": [
    "output_path = \"test_bp.tif\"\n",
    "nRows = out.shape[0]\n",
    "nCols = out.shape[1]\n",
    "res = nRows\n",
    "nodata_val = 65535\n",
    "myCrs = 4326\n",
    "\n",
    "data = out\n",
    "\n",
    "# Define the pixel size and number of rows and columns\n",
    "pixel_size = 1  # Size of each pixel in the output raster\n",
    "rows, cols = data.shape\n",
    "\n",
    "# Define the spatial extent (bounding box) of the raster\n",
    "left, bottom, right, top = xMin, yMin, xMax, yMax\n",
    "\n",
    "psize_x = (xMax - xMin) / cols\n",
    "psize_y = (yMax - yMin) / rows\n",
    "\n",
    "# Create the raster file\n",
    "with rasterio.open(\n",
    "        output_path,\n",
    "        \"w\",\n",
    "        driver=\"GTiff\",\n",
    "        height=rows,\n",
    "        width=cols,\n",
    "        count=1,\n",
    "        dtype=data.dtype,\n",
    "        crs=\"EPSG:4326\",\n",
    "        transform=from_origin(left, top, psize_x, psize_y),\n",
    ") as dst:\n",
    "    dst.write(data, 1)"
   ]
  }
 ],
 "metadata": {
  "kernelspec": {
   "display_name": "ox",
   "language": "python",
   "name": "ox"
  },
  "language_info": {
   "codemirror_mode": {
    "name": "ipython",
    "version": 3
   },
   "file_extension": ".py",
   "mimetype": "text/x-python",
   "name": "python",
   "nbconvert_exporter": "python",
   "pygments_lexer": "ipython3",
   "version": "3.11.5"
  },
  "toc": {
   "base_numbering": 1,
   "nav_menu": {},
   "number_sections": true,
   "sideBar": true,
   "skip_h1_title": false,
   "title_cell": "Table of Contents",
   "title_sidebar": "Contents",
   "toc_cell": false,
   "toc_position": {},
   "toc_section_display": true,
   "toc_window_display": false
  }
 },
 "nbformat": 4,
 "nbformat_minor": 5
}
